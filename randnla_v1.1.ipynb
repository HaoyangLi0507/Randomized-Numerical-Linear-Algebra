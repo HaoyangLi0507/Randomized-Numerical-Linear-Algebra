{
 "cells": [
  {
   "cell_type": "code",
   "execution_count": 95,
   "metadata": {},
   "outputs": [],
   "source": [
    "import numpy as np\n",
    "import math\n",
    "import time\n",
    "import matplotlib.pyplot as plt\n",
    "from scipy.linalg import hadamard\n",
    "from scipy import linalg\n",
    "from sklearn.utils import extmath\n",
    "from scipy.misc import toimage\n",
    "import cv2\n",
    "from PIL import Image\n",
    "from scipy.sparse.linalg import svds\n",
    "from scipy.sparse import random as spr"
   ]
  },
  {
   "cell_type": "markdown",
   "metadata": {},
   "source": [
    "# Matrix multuplication"
   ]
  },
  {
   "cell_type": "code",
   "execution_count": 2,
   "metadata": {},
   "outputs": [],
   "source": [
    "#this method is used for calculate the optimal probability set in the randomized matrix multiplication algorithm.\n",
    "def max_fnorm(A,B):\n",
    "    fnorms=np.zeros(A.shape[1])\n",
    "    nsum=0\n",
    "    for i in range(A.shape[1]):\n",
    "        fnorm=np.linalg.norm(A[:,i]) * np.linalg.norm(B[i,:])\n",
    "        fnorms[i]=fnorm\n",
    "        nsum=nsum+fnorm\n",
    "    return fnorms/nsum"
   ]
  },
  {
   "cell_type": "code",
   "execution_count": 3,
   "metadata": {},
   "outputs": [],
   "source": [
    "#random matrix multiplication method\n",
    "def rand_matrix_mul(A,B,c,probability):\n",
    "    col=np.array(range(A.shape[1]))\n",
    "    msum=np.zeros([A.shape[0],B.shape[1]])\n",
    "    for i in range(c):\n",
    "        j=np.random.choice(col,p=probability)\n",
    "        Aj=np.reshape(A[:,j],[len(A[:,j]),1])\n",
    "        Bj=np.reshape(B[j,:],[1,len(B[j,:])])\n",
    "        mul=np.matmul(Aj,Bj)/(c*p[j])\n",
    "        msum=msum+mul\n",
    "    return msum"
   ]
  },
  {
   "cell_type": "code",
   "execution_count": 17,
   "metadata": {},
   "outputs": [],
   "source": [
    "#Create the list to store the result, each size of n (A' column number and B's row number) has one \n",
    "#element in the list. rmm for randomized matrix multiplication and emm for exact matrix multiplication.\n",
    "#p_time for the time used to get the probability\n",
    "rmm_time = [None]*10\n",
    "rmm_accu = [None]*10\n",
    "emm_time = [None]*10\n",
    "emm_norm = [None]*10\n",
    "p_time = [None]*10\n",
    "\n",
    "#For each calculation, we want to repeat 30 times and take average to get a more accurate description \n",
    "#of the method\n",
    "repeat_times = 40\n",
    "#Create the array of different sampling sizes.\n",
    "C = np.array(range(50,501,50))\n",
    "#set initial value for n\n",
    "init_n = 30000"
   ]
  },
  {
   "cell_type": "code",
   "execution_count": 18,
   "metadata": {},
   "outputs": [],
   "source": [
    "#Doing the test for the first 5 sizes\n",
    "for i in range(5):\n",
    "    #set size of A,B, and the arrays to store the time and accuracy for different sizes of A and B.\n",
    "    A = np.random.rand(700,init_n+i*30000) #elements of A is in [0,1)\n",
    "    B = np.random.rand(init_n+i*30000,700) #elements of B is in [0,1)\n",
    "    times=np.zeros(len(C)) #same n, different c\n",
    "    errors=np.zeros(len(C)) #same n, different c\n",
    "\n",
    "    #calculate the exact matrix multiplication\n",
    "    start=time.time()\n",
    "    exact=np.matmul(A,B)\n",
    "    end=time.time()\n",
    "    emm_time[i] = end-start\n",
    "    extfnorm=np.linalg.norm(exact)\n",
    "    emm_norm[i] = extfnorm*extfnorm\n",
    "\n",
    "    #get the probability\n",
    "    start = time.time()\n",
    "    p=max_fnorm(A,B)\n",
    "    end = time.time()\n",
    "    p_time[i] = end-start\n",
    "    \n",
    "    #calculate the random matrix multiplication for each value of n (taking the average)\n",
    "    index=0\n",
    "    for c in C:\n",
    "        timS = np.zeros(repeat_times) #same n, same c, for average\n",
    "        errS = np.zeros(repeat_times) #same n, same c, for average\n",
    "        for k in range(repeat_times):\n",
    "            start=time.time()\n",
    "            random=rand_matrix_mul(A,B,c,p)\n",
    "            end=time.time()\n",
    "            error=np.linalg.norm(exact-random)\n",
    "            timS[k] = end-start\n",
    "            errS[k] = error*error/(extfnorm*extfnorm)\n",
    "        times[index]=np.average(timS)\n",
    "        errors[index]=np.average(errS)\n",
    "        index+=1\n",
    "        \n",
    "    #adding the result to the rmm_time and rmm_accu\n",
    "    rmm_time[i] = times\n",
    "    rmm_accu[i] = errors"
   ]
  },
  {
   "cell_type": "code",
   "execution_count": 24,
   "metadata": {},
   "outputs": [],
   "source": [
    "#Doing the test for the next 5 sizes\n",
    "for i in range(5,10,1):\n",
    "    #set size of A,B, and the arrays to store the time and accuracy for different sizes of A and B.\n",
    "    A = np.random.rand(700,init_n+i*30000) #elements of A is in [0,1)\n",
    "    B = np.random.rand(init_n+i*30000,700) #elements of B is in [0,1)\n",
    "    times=np.zeros(len(C)) #same n, different c\n",
    "    errors=np.zeros(len(C)) #same n, different c\n",
    "\n",
    "    #calculate the exact matrix multiplication\n",
    "    start=time.time()\n",
    "    exact=np.matmul(A,B)\n",
    "    end=time.time()\n",
    "    emm_time[i] = end-start\n",
    "    extfnorm=np.linalg.norm(exact)\n",
    "    emm_norm[i] = extfnorm*extfnorm\n",
    "\n",
    "    #get the probability\n",
    "    start = time.time()\n",
    "    p=max_fnorm(A,B)\n",
    "    end = time.time()\n",
    "    p_time[i] = end-start\n",
    "    \n",
    "    #calculate the random matrix multiplication for each value of n (taking the average)\n",
    "    index=0\n",
    "    for c in C:\n",
    "        timS = np.zeros(repeat_times) #same n, same c, for average\n",
    "        errS = np.zeros(repeat_times) #same n, same c, for average\n",
    "        for k in range(repeat_times):\n",
    "            start=time.time()\n",
    "            random=rand_matrix_mul(A,B,c,p)\n",
    "            end=time.time()\n",
    "            error=np.linalg.norm(exact-random)\n",
    "            timS[k] = end-start\n",
    "            errS[k] = error*error/(extfnorm*extfnorm)\n",
    "        times[index]=np.average(timS)\n",
    "        errors[index]=np.average(errS)\n",
    "        index+=1\n",
    "        \n",
    "    #adding the result to the rmm_time and rmm_accu\n",
    "    rmm_time[i] = times\n",
    "    rmm_accu[i] = errors"
   ]
  },
  {
   "cell_type": "code",
   "execution_count": 27,
   "metadata": {},
   "outputs": [],
   "source": [
    "rmm_timeC = [None]*10\n",
    "rmm_accuC = [None]*10\n",
    "emm_timeC = [None]*10\n",
    "emm_normC = [None]*10\n",
    "p_timeC = [None]*10"
   ]
  },
  {
   "cell_type": "code",
   "execution_count": null,
   "metadata": {},
   "outputs": [],
   "source": []
  },
  {
   "cell_type": "code",
   "execution_count": 29,
   "metadata": {},
   "outputs": [],
   "source": [
    "#Doing the test for the another 10 sizes\n",
    "for i in range(10,20,1):\n",
    "    #set size of A,B, and the arrays to store the time and accuracy for different sizes of A and B.\n",
    "    A = np.random.rand(700,init_n+i*30000) #elements of A is in [0,1)\n",
    "    B = np.random.rand(init_n+i*30000,700) #elements of B is in [0,1)\n",
    "    times=np.zeros(len(C)) #same n, different c\n",
    "    errors=np.zeros(len(C)) #same n, different c\n",
    "\n",
    "    #calculate the exact matrix multiplication\n",
    "    start=time.time()\n",
    "    exact=np.matmul(A,B)\n",
    "    end=time.time()\n",
    "    emm_timeC[i-10] = end-start\n",
    "    extfnorm=np.linalg.norm(exact)\n",
    "    emm_normC[i-10] = extfnorm*extfnorm\n",
    "\n",
    "    #get the probability\n",
    "    start = time.time()\n",
    "    p=max_fnorm(A,B)\n",
    "    end = time.time()\n",
    "    p_timeC[i-10] = end-start\n",
    "    \n",
    "    #calculate the random matrix multiplication for each value of n (taking the average)\n",
    "    index=0\n",
    "    for c in C:\n",
    "        timS = np.zeros(repeat_times) #same n, same c, for average\n",
    "        errS = np.zeros(repeat_times) #same n, same c, for average\n",
    "        for k in range(repeat_times):\n",
    "            start=time.time()\n",
    "            random=rand_matrix_mul(A,B,c,p)\n",
    "            end=time.time()\n",
    "            error=np.linalg.norm(exact-random)\n",
    "            timS[k] = end-start\n",
    "            errS[k] = error*error/(extfnorm*extfnorm)\n",
    "        times[index]=np.average(timS)\n",
    "        errors[index]=np.average(errS)\n",
    "        index+=1\n",
    "        \n",
    "    #adding the result to the rmm_time and rmm_accu\n",
    "    rmm_timeC[i-10] = times\n",
    "    rmm_accuC[i-10] = errors"
   ]
  },
  {
   "cell_type": "code",
   "execution_count": 177,
   "metadata": {},
   "outputs": [
    {
     "name": "stdout",
     "output_type": "stream",
     "text": [
      "[7.973589181900024, 7.5893590450286865, 8.5105299949646, 9.076717853546143, 9.892645120620728, 9.98530912399292, 11.172114133834839, 11.547385215759277, 19.08427906036377, 109.73252201080322]\n"
     ]
    }
   ],
   "source": [
    "print(p_timeC)"
   ]
  },
  {
   "cell_type": "markdown",
   "metadata": {},
   "source": [
    "# Low rank matrix approximation"
   ]
  },
  {
   "cell_type": "code",
   "execution_count": 115,
   "metadata": {},
   "outputs": [],
   "source": [
    "#Calculate a Hadamard Transformation \n",
    "def hadamardM(H,n,index):\n",
    "    if index==n:\n",
    "        return H\n",
    "    if index==1:\n",
    "        H[0,0]=1\n",
    "        H[0,1]=1\n",
    "        H[1,0]=1\n",
    "        H[1,1]=-1\n",
    "    else:\n",
    "        H[0:index,index:index+index]=H[0:index,0:index]\n",
    "        H[index:index+index,0:index]=H[0:index,0:index]\n",
    "        H[index:index+index,index:index+index]=H[0:index,0:index]*(-1)\n",
    "    index=2*index\n",
    "    return hadamardM(H,n,index)"
   ]
  },
  {
   "cell_type": "code",
   "execution_count": 116,
   "metadata": {},
   "outputs": [],
   "source": [
    "#Calculate low rank matrix approximation\n",
    "def low_rank_matrix(A,k):\n",
    "    #calculating c with c0=0.005 and e=0.25\n",
    "    n=A.shape[1]\n",
    "    co=0.005\n",
    "    c=int(co*k*math.log(n)*(math.log(k/0.0625)+math.log(math.log(n)))/0.0625)+2\n",
    "    H=hadamard(n)/math.sqrt(n)\n",
    "    C=range(n)\n",
    "    chosen=np.random.choice(C,size=c)\n",
    "    D=np.zeros([n,n])\n",
    "    for i in range(n):\n",
    "        D[i,i]=np.random.choice([1,-1])\n",
    "    #AD=np.matmul(A,D)\n",
    "    H_sample=np.zeros([A.shape[0],c])\n",
    "    for i in range(c):\n",
    "        H_sample[:,i]=H[:,chosen[i]]\n",
    "    approx = np.matmul(A, np.matmul(D,H_sample))\n",
    "    Q=linalg.orth(approx)\n",
    "    B=np.matmul(np.matrix.transpose(Q),A)\n",
    "    leftB=np.linalg.svd(B)[0][:,0:k]\n",
    "    approximation=np.matmul(Q,leftB)\n",
    "    return approximation"
   ]
  },
  {
   "cell_type": "code",
   "execution_count": 117,
   "metadata": {},
   "outputs": [],
   "source": [
    "#calculate how sparse is A\n",
    "def sparcity(A):\n",
    "    return np.count_nonzero(A)/(A.shape[0]*A.shape[1])"
   ]
  },
  {
   "cell_type": "code",
   "execution_count": 124,
   "metadata": {},
   "outputs": [],
   "source": [
    "#create lists to store results\n",
    "size_c = 5\n",
    "rlrma_time_size=[None]*size_c #for randomized low rank matrix approximation\n",
    "rlrma_accu_size=[None]*size_c\n",
    "svd_time_size=[None]*size_c #for svd\n",
    "svd_accu_size=[None]*size_c\n",
    "A_norm=np.zeros(size_c) #for A's norm\n",
    "A_sparcity=np.zeros(size_c)\n",
    "\n",
    "#initialize some constants\n",
    "K=np.arange(5,51,5)\n",
    "init_n_app = 512\n",
    "size = init_n_app\n",
    "repeatTime = 15"
   ]
  },
  {
   "cell_type": "code",
   "execution_count": 125,
   "metadata": {},
   "outputs": [],
   "source": [
    "#create lists to store results\n",
    "rlrma_time_sps=[None]*size_c #for randomized low rank matrix approximation\n",
    "rlrma_accu_sps=[None]*size_c\n",
    "svd_time_sps=[None]*size_c #for svd\n",
    "svd_accu_sps=[None]*size_c\n",
    "A_norm_sps=np.zeros(size_c) #for A's norm\n",
    "A_sparcity_sps=np.zeros(size_c)\n",
    "\n",
    "#initialize some constants\n",
    "size_sps = 4096"
   ]
  },
  {
   "cell_type": "code",
   "execution_count": 126,
   "metadata": {},
   "outputs": [
    {
     "name": "stdout",
     "output_type": "stream",
     "text": [
      "[0.03457023 0.05899908 0.04400646 0.04799468 0.05028089 0.05454906\n",
      " 0.06313732 0.06927455 0.07631362 0.08338923]\n",
      "[0.05694318 0.04154015 0.04442382 0.07854009 0.09172082 0.04697394\n",
      " 0.04941607 0.05840492 0.06612492 0.07995796]\n",
      "[0.10110799 0.13773562 0.17062922 0.20227076 0.24142297 0.27354943\n",
      " 0.28540061 0.28567897 0.30312726 0.33741186]\n",
      "[0.27057195 0.23535204 0.26869607 0.29616618 0.32420111 0.32424331\n",
      " 0.3788619  0.40644813 0.43024087 0.45056415]\n",
      "[0.37664946 0.53321792 0.68782825 0.84603413 1.0230951  1.06373994\n",
      " 1.0487813  1.04265089 1.13721835 1.20740197]\n",
      "[1.14019299 1.21831703 1.44861484 1.28325987 1.47444582 1.66918302\n",
      " 1.7987361  1.92874789 2.00186706 2.05354214]\n",
      "[1.6027857  2.23249639 2.94931959 3.78930128 3.77456614 3.86441253\n",
      " 4.09273847 4.36982155 4.68454701 4.88366299]\n",
      "[6.02596593 6.41597295 6.59312391 6.689852   7.46846986 7.82608294\n",
      " 8.4608469  9.31027913 9.39847612 9.95330286]\n",
      "[ 6.83180291  9.78856341 12.89541143 16.08414399 17.13604843 17.43414896\n",
      " 18.15876252 18.47715751 19.36236731 20.1069768 ]\n",
      "[36.29778695 40.96809602 46.67614937 50.57950091 49.51181579 56.52017903\n",
      " 56.27740216 59.38102198 62.59248161 66.28196216]\n"
     ]
    }
   ],
   "source": [
    "#test the algorithm for different size of A but similar sparcity.\n",
    "for i in range(size_c):\n",
    "    #create random matrix A and record it's norm and sparcity\n",
    "    A = np.random.rand(size,size)\n",
    "    A_norm[i]=np.linalg.norm(A)\n",
    "    A_sparcity[i]=sparcity(A)\n",
    "    #create list to store result for different k but same A\n",
    "    timeRA=np.zeros(len(K))\n",
    "    accuRA = np.zeros(len(K))\n",
    "    timeEA=np.zeros(len(K))\n",
    "    accuEA = np.zeros(len(K))\n",
    "    \n",
    "    index=0\n",
    "    #test for different k values\n",
    "    for kn in K:\n",
    "        #for low rank approximation\n",
    "        timeR=np.zeros(repeatTime)\n",
    "        accuR=np.zeros(repeatTime)\n",
    "        \n",
    "        start=time.time()\n",
    "        u,s,vt=svds(A,k=kn)\n",
    "        end=time.time()\n",
    "        timeEA[index] = end-start\n",
    "        accuEA[index] = abs(np.linalg.norm(np.matmul(np.matmul(u,np.matrix.transpose(u)),A))-A_norm[i])\n",
    "        \n",
    "        #repeat random method for several times\n",
    "        for j in range(repeatTime):\n",
    "            start=time.time()\n",
    "            resultR=low_rank_matrix(A,kn)\n",
    "            end=time.time()\n",
    "            timeR[j]=end-start\n",
    "            accR=abs(np.linalg.norm(np.matmul(np.matmul(resultR,np.matrix.transpose(resultR)),A))-A_norm[i])\n",
    "            accuR[j]=accR\n",
    "        timeRA[index] = np.average(timeR)\n",
    "        accuRA[index] = np.average(accuR)\n",
    "        index+=1\n",
    "        \n",
    "    rlrma_time_size[i] = timeRA\n",
    "    print(timeRA)\n",
    "    rlrma_accu_size[i] = accuRA\n",
    "    svd_time_size[i] = timeEA\n",
    "    print(timeEA)\n",
    "    svd_accu_size[i] = accuEA\n",
    "    size = size*2\n"
   ]
  },
  {
   "cell_type": "code",
   "execution_count": 127,
   "metadata": {},
   "outputs": [],
   "source": [
    "#test the algorithm for same size of A but different sparcity.\n",
    "for i in range(size_c):\n",
    "    #create random matrix A and record it's norm and sparcity\n",
    "    ds = (i+1)/size_c\n",
    "    A = spr(size_sps,size_sps,density=ds).A\n",
    "    A_norm_sps[i]=np.linalg.norm(A)\n",
    "    A_sparcity_sps[i]=ds\n",
    "    #create list to store result for different k but same A\n",
    "    timeRA=np.zeros(len(K))\n",
    "    accuRA = np.zeros(len(K))\n",
    "    timeEA=np.zeros(len(K))\n",
    "    accuEA = np.zeros(len(K))\n",
    "    \n",
    "    index=0\n",
    "    #test for different k values\n",
    "    for kn in K:\n",
    "        #for low rank approximation\n",
    "        timeR=np.zeros(repeatTime)\n",
    "        accuR=np.zeros(repeatTime)\n",
    "        \n",
    "        start=time.time()\n",
    "        u,s,vt=svds(A,k=kn)\n",
    "        end=time.time()\n",
    "        timeEA[index] = end-start\n",
    "        accuEA[index] = abs(np.linalg.norm(np.matmul(np.matmul(u,np.matrix.transpose(u)),A))-A_norm[i])\n",
    "        \n",
    "        #repeat random method for several times\n",
    "        for j in range(repeatTime):\n",
    "            start=time.time()\n",
    "            resultR=low_rank_matrix(A,kn)\n",
    "            end=time.time()\n",
    "            timeR[j]=end-start\n",
    "            accR=abs(np.linalg.norm(np.matmul(np.matmul(resultR,np.matrix.transpose(resultR)),A))-A_norm[i])\n",
    "            accuR[j]=accR\n",
    "        timeRA[index] = np.average(timeR)\n",
    "        accuRA[index] = np.average(accuR)\n",
    "        index+=1\n",
    "        \n",
    "    rlrma_time_sps[i] = timeRA\n",
    "    rlrma_accu_sps[i] = accuRA\n",
    "    svd_time_sps[i] = timeEA\n",
    "    svd_accu_sps[i] = accuEA\n"
   ]
  },
  {
   "cell_type": "code",
   "execution_count": 128,
   "metadata": {},
   "outputs": [
    {
     "name": "stdout",
     "output_type": "stream",
     "text": [
      "[array([ 69.50609347,  98.87011465, 109.89019179, 117.5469479 ,\n",
      "       122.40993041, 127.4857122 , 131.88578466, 136.31782911,\n",
      "       140.66850666, 144.44922918]), array([185.64615925, 213.78820968, 223.65245874, 230.34904873,\n",
      "       235.11019483, 239.37826362, 242.96211572, 246.66257842,\n",
      "       250.25253279, 253.64918849]), array([16.41378433, 33.73752404, 42.3496727 , 48.02131175, 51.27167255,\n",
      "       54.68077636, 57.84330794, 60.70140166, 63.57165304, 66.26725381]), array([749.9252975 , 735.2487875 , 728.82776983, 725.32526775,\n",
      "       722.7598807 , 720.3047342 , 717.95671331, 715.93730666,\n",
      "       713.9125615 , 711.89082684]), array([2697.11697212, 2687.46917653, 2683.58242607, 2681.08892408,\n",
      "       2679.30188899, 2677.74943022, 2676.27839663, 2675.04199516,\n",
      "       2673.76027747, 2672.4669841 ])]\n"
     ]
    }
   ],
   "source": [
    "print(rlrma_accu_sps)"
   ]
  },
  {
   "cell_type": "code",
   "execution_count": 129,
   "metadata": {},
   "outputs": [
    {
     "name": "stdout",
     "output_type": "stream",
     "text": [
      "[array([119.05989834, 124.4846825 , 129.77343006, 134.9517288 ,\n",
      "       140.01696316, 144.99292222, 149.87784058, 154.67672551,\n",
      "       159.38428896, 164.01049504]), array([232.27413443, 236.79476186, 241.22561948, 245.59568905,\n",
      "       249.9029826 , 254.15888791, 258.36055974, 262.51404576,\n",
      "       266.61481536, 270.66515255]), array([49.28175726, 52.84643225, 56.36122372, 59.8308706 , 63.26118365,\n",
      "       66.66031501, 70.02053099, 73.34275186, 76.63241733, 79.89055794]), array([724.28489795, 721.67986588, 719.11318762, 716.57444028,\n",
      "       714.06389372, 711.57696375, 709.11266222, 706.66977499,\n",
      "       704.24994163, 701.85095651]), array([2680.2642446 , 2678.63907145, 2677.0337042 , 2675.44636585,\n",
      "       2673.87151114, 2672.31298832, 2670.76718723, 2669.23456225,\n",
      "       2667.71323911, 2666.20371892])]\n"
     ]
    }
   ],
   "source": [
    "print(svd_accu_sps)"
   ]
  },
  {
   "cell_type": "code",
   "execution_count": 130,
   "metadata": {},
   "outputs": [
    {
     "name": "stdout",
     "output_type": "stream",
     "text": [
      "[array([1.78211521, 2.28722041, 2.98382603, 3.719148  , 3.80804501,\n",
      "       3.93214734, 4.21283153, 4.55269009, 4.69383033, 4.92570446]), array([1.62652095, 2.27393765, 2.99644049, 3.91035239, 3.74436073,\n",
      "       4.08704343, 4.23999669, 4.49931102, 4.71563509, 4.96501338]), array([1.64057695, 2.28405096, 3.00244883, 3.69555813, 3.79803284,\n",
      "       3.89174445, 4.26449738, 4.4743427 , 4.70943101, 4.95535622]), array([1.62497783, 2.24467808, 2.96976663, 3.65821231, 3.71309471,\n",
      "       3.85009445, 4.15268771, 4.45512075, 4.77574684, 4.85250669]), array([1.61893539, 2.2657719 , 2.99368862, 3.70636039, 3.73721649,\n",
      "       3.89329443, 4.17652701, 4.4934806 , 4.83032284, 4.88843528])]\n"
     ]
    }
   ],
   "source": [
    "print(rlrma_time_sps)"
   ]
  },
  {
   "cell_type": "code",
   "execution_count": 131,
   "metadata": {},
   "outputs": [
    {
     "name": "stdout",
     "output_type": "stream",
     "text": [
      "[array([6.683079  , 6.25061202, 6.9702363 , 7.34551764, 7.86321592,\n",
      "       9.08610511, 8.33382297, 8.65848279, 9.43974829, 9.98487282]), array([5.90855813, 5.58460808, 6.82760096, 7.38499188, 7.58847904,\n",
      "       8.16746116, 8.36179113, 9.06923819, 9.61984181, 9.84480381]), array([ 5.0510819 ,  6.50432301,  6.48615026,  7.10431409,  7.38406897,\n",
      "        7.72405887,  8.29976606,  8.79751658,  9.35012364, 10.02719402]), array([5.47329259, 6.59975886, 7.36514616, 6.91198897, 7.53412008,\n",
      "       7.70068407, 8.56531   , 8.92280197, 9.41755986, 9.84124398]), array([5.54440713, 6.68141723, 6.89076805, 7.35118604, 7.26051688,\n",
      "       7.96318698, 8.59062409, 9.01655507, 9.1408689 , 9.45828891])]\n"
     ]
    }
   ],
   "source": [
    "print(svd_time_sps)"
   ]
  },
  {
   "cell_type": "code",
   "execution_count": 132,
   "metadata": {},
   "outputs": [
    {
     "name": "stdout",
     "output_type": "stream",
     "text": [
      "[1057.9220689  1495.21610142 1831.45228784 2115.00659131 2364.74334825]\n"
     ]
    }
   ],
   "source": [
    "print(A_norm_sps)"
   ]
  },
  {
   "cell_type": "code",
   "execution_count": 133,
   "metadata": {},
   "outputs": [
    {
     "name": "stdout",
     "output_type": "stream",
     "text": [
      "[0.2 0.4 0.6 0.8 1. ]\n"
     ]
    }
   ],
   "source": [
    "print(A_sparcity_sps)"
   ]
  },
  {
   "cell_type": "markdown",
   "metadata": {},
   "source": [
    "# Low Rank Approximation for PSD"
   ]
  },
  {
   "cell_type": "code",
   "execution_count": 135,
   "metadata": {},
   "outputs": [],
   "source": [
    "from numpy.linalg import matrix_rank\n",
    "from numpy.linalg import inv\n",
    "from scipy.linalg import eigh\n",
    "from numpy import fft\n",
    "from numpy.linalg import pinv\n"
   ]
  },
  {
   "cell_type": "code",
   "execution_count": 136,
   "metadata": {},
   "outputs": [],
   "source": [
    "#low rank approximation for SPSD with sketches\n",
    "def get_u(A):\n",
    "    k = matrix_rank(A)\n",
    "    projection = np.matmul(np.matmul(A,inv(np.matmul(A.transpose(),A))),A.transpose())\n",
    "    max = projection[0,0]\n",
    "    for i in range(projection.shape[0]):\n",
    "        if projection[i,i]>max:\n",
    "            max = projection[i,i]\n",
    "    n = A.shape[0]\n",
    "    u = n/k*max\n",
    "    return u\n",
    "    \n",
    "def get_l_ny(u,k,epslon,delta,inc):\n",
    "    min_l = 2*u*(1/(epslon*epslon))*k*math.log(k/delta)\n",
    "    return math.ceil(min_l + inc)\n",
    "\n",
    "def get_l_gs(k,epslon):\n",
    "    return math.ceil((1+epslon*epslon)*k)\n",
    "    \n",
    "def nystrom(n,l):\n",
    "    I = np.identity(n)\n",
    "    #print(n)\n",
    "    #print(l)\n",
    "    choice = np.random.choice(n, size=l, replace=False)\n",
    "    S = I[:,choice]\n",
    "    return S\n",
    "\n",
    "def gaussian(n,l):\n",
    "    return np.random.normal(size=(n,l))\n",
    "\n",
    "def approximation(A,l,extension):\n",
    "    if extension == 0:\n",
    "        S = nystrom(A.shape[0],l)\n",
    "    elif extension == 1:\n",
    "        S = srft(A.shape[0],l)\n",
    "    elif extension == 2:\n",
    "        S = gaussian(A.shape[0],l)\n",
    "    C = np.matmul(A,S)\n",
    "    W = np.matmul(S.transpose(),np.matmul(A,S))\n",
    "    Winv = pinv(W)\n",
    "    approx = np.matmul(C,np.matmul(Winv,C.transpose()))\n",
    "    return approx"
   ]
  },
  {
   "cell_type": "code",
   "execution_count": 156,
   "metadata": {},
   "outputs": [],
   "source": [
    "#create lists to store results\n",
    "size_ct = 2\n",
    "ny_time_size=[None]*size_ct #for nystrom extension\n",
    "ny_accu_size=[None]*size_ct\n",
    "gs_time_size=[None]*size_ct #for gaussian extension\n",
    "gs_accu_size=[None]*size_ct\n",
    "esvd_time_size=[None]*size_ct #for svd\n",
    "esvd_accu_size=[None]*size_ct\n",
    "psd_norm=np.zeros(size_ct) #for A's norm\n",
    "psd_sparcity=np.zeros(size_ct)\n",
    "\n",
    "#initialize some constants\n",
    "K=np.arange(5,31,5)\n",
    "init_n_app = 3000\n",
    "size = init_n_app\n",
    "repeatTime = 10\n",
    "epslon = 0.9\n",
    "delta = 0.1"
   ]
  },
  {
   "cell_type": "code",
   "execution_count": 163,
   "metadata": {},
   "outputs": [
    {
     "name": "stdout",
     "output_type": "stream",
     "text": [
      "ny:   49\n",
      "gs:   10\n",
      "ny:   115\n",
      "gs:   19\n",
      "ny:   187\n",
      "gs:   28\n",
      "ny:   263\n",
      "gs:   37\n",
      "ny:   343\n",
      "gs:   46\n",
      "ny:   425\n",
      "gs:   55\n",
      "[0.13984497 0.23019464 0.2524698  0.46157472 0.50496194 0.68923197]\n",
      "[0.087328   0.11931291 0.08931139 0.09838281 0.10558391 0.11706512]\n",
      "[2.07266998 2.35358095 2.43203926 3.00338888 2.55007195 3.07142711]\n",
      "ny:   50\n",
      "gs:   10\n",
      "ny:   116\n",
      "gs:   19\n",
      "ny:   189\n",
      "gs:   28\n",
      "ny:   267\n",
      "gs:   37\n",
      "ny:   348\n",
      "gs:   46\n",
      "ny:   431\n",
      "gs:   55\n",
      "[0.18992476 0.20510077 0.33153341 0.33809586 0.435656   0.57960956]\n",
      "[0.11893718 0.09082084 0.10804198 0.09705601 0.1038291  0.1142823 ]\n",
      "[1.68261933 2.41987395 2.30344486 2.51653099 2.40967607 2.62032819]\n"
     ]
    }
   ],
   "source": [
    "#test the algorithm for different size of A but similar sparcity.\n",
    "for i in range(size_ct):\n",
    "    #create random matrix A and record it's norm and sparcity\n",
    "    size = init_n_app+i*2000\n",
    "    A = np.random.rand(size,size)\n",
    "    A = np.matmul(A.transpose(),A)\n",
    "    psd_norm[i]=np.linalg.norm(A)\n",
    "    psd_sparcity[i]=sparcity(A)\n",
    "    #create list to store result for different k but same A\n",
    "    timeNA=np.zeros(len(K))\n",
    "    accuNA=np.zeros(len(K))\n",
    "    timeGA=np.zeros(len(K))\n",
    "    accuGA=np.zeros(len(K))\n",
    "    timeEA=np.zeros(len(K))\n",
    "    accuEA=np.zeros(len(K))\n",
    "    #get coherence u\n",
    "    inputU = get_u(A)\n",
    "    \n",
    "    index=0\n",
    "    #test for different k values\n",
    "    for kn in K:\n",
    "        timeN=np.zeros(repeatTime)\n",
    "        accuN=np.zeros(repeatTime)\n",
    "        timeG=np.zeros(repeatTime)\n",
    "        accuG=np.zeros(repeatTime)\n",
    "        \n",
    "        \n",
    "        #for svd\n",
    "        start=time.time()\n",
    "        u,s,vt=svds(A,k=kn)\n",
    "        end=time.time()\n",
    "        timeEA[index] = end-start\n",
    "        accuEA[index] = abs(np.linalg.norm(np.matmul(np.matmul(u,np.matrix.transpose(u)),A))-psd_norm[i])\n",
    "        \n",
    "        \n",
    "        \n",
    "        #repeat nystrom extension for several times\n",
    "        l=get_l_ny(inputU,kn,epslon,delta,0)\n",
    "        print(\"ny:  \",l)\n",
    "        for j in range(repeatTime):\n",
    "            start=time.time()\n",
    "            resultR=approximation(A,l,0)\n",
    "            end=time.time()\n",
    "            timeN[j]=end-start\n",
    "            accR=abs(np.linalg.norm(resultR)-psd_norm[i])\n",
    "            accuN[j]=accR\n",
    "        timeNA[index] = np.average(timeN)\n",
    "        accuNA[index] = np.average(accuN)\n",
    "        \n",
    "        #repeat guassian extension for several times\n",
    "        l=get_l_gs(kn,epslon)\n",
    "        print(\"gs:  \",l)\n",
    "        for j in range(repeatTime):\n",
    "            start=time.time()\n",
    "            resultR=approximation(A,l,2)\n",
    "            end=time.time()\n",
    "            timeG[j]=end-start\n",
    "            accR=abs(np.linalg.norm(resultR)-psd_norm[i])\n",
    "            accuG[j]=accR\n",
    "        timeGA[index] = np.average(timeG)\n",
    "        accuGA[index] = np.average(accuG)\n",
    "        \n",
    "        index+=1\n",
    "        \n",
    "    ny_time_size[i] = timeNA\n",
    "    ny_accu_size[i] = accuNA\n",
    "    gs_time_size[i] = timeGA\n",
    "    gs_accu_size[i] = accuGA\n",
    "    esvd_time_size[i] = timeEA\n",
    "    esvd_accu_size[i] = accuEA\n"
   ]
  },
  {
   "cell_type": "code",
   "execution_count": 167,
   "metadata": {},
   "outputs": [
    {
     "name": "stdout",
     "output_type": "stream",
     "text": [
      "[array([2405.57124138, 1708.51549274, 1377.88779336, 1191.17865132,\n",
      "       1048.59838911,  940.8899683 ]), array([522.98621645, 457.61196009, 408.3061304 , 367.24045359,\n",
      "       329.55072531, 300.45557165])]\n",
      "[array([3716.77630507, 3345.46171055, 2863.37492046, 2692.71553767,\n",
      "       2382.53717148, 2409.31333911]), array([590.24276342, 569.2565704 , 550.80059889, 538.52657486,\n",
      "       524.04689577, 512.71475944])]\n",
      "[array([1064.11635032, 1048.34105462, 1033.14840283, 1018.47058364,\n",
      "       1004.09669   ,  990.03955473]), array([471.58689298, 456.58304943, 443.07567392, 430.79996114,\n",
      "       419.52945744, 409.09502281])]\n",
      "[4756.16329531  646.20427434]\n"
     ]
    }
   ],
   "source": [
    "print(ny_accu_size)\n",
    "print(gs_accu_size)\n",
    "print(esvd_accu_size)\n",
    "print(psd_norm)"
   ]
  },
  {
   "cell_type": "code",
   "execution_count": 175,
   "metadata": {},
   "outputs": [],
   "source": [
    "#create lists to store results\n",
    "size_ct = 7\n",
    "ny_time_sps=[None]*size_ct #for nystrom extension\n",
    "ny_accu_sps=[None]*size_ct\n",
    "gs_time_sps=[None]*size_ct #for gaussian extension\n",
    "gs_accu_sps=[None]*size_ct\n",
    "esvd_time_sps=[None]*size_ct #for svd\n",
    "esvd_accu_sps=[None]*size_ct\n",
    "psd_norm_sps=np.zeros(size_ct) #for A's norm\n",
    "psd_sparcity_sps=np.zeros(size_ct)\n",
    "\n",
    "#initialize some constants\n",
    "K=np.arange(5,31,5)\n",
    "size = 5000\n",
    "repeatTime = 10\n",
    "epslon = 0.9\n",
    "delta = 0.1"
   ]
  },
  {
   "cell_type": "code",
   "execution_count": 176,
   "metadata": {},
   "outputs": [
    {
     "name": "stdout",
     "output_type": "stream",
     "text": [
      "0\n",
      "1\n",
      "2\n",
      "3\n",
      "4\n",
      "5\n",
      "6\n",
      "7\n",
      "8\n",
      "9\n",
      "10\n",
      "11\n",
      "12\n"
     ]
    },
    {
     "ename": "IndexError",
     "evalue": "index 2 is out of bounds for axis 0 with size 2",
     "output_type": "error",
     "traceback": [
      "\u001b[0;31m---------------------------------------------------------------------------\u001b[0m",
      "\u001b[0;31mIndexError\u001b[0m                                Traceback (most recent call last)",
      "\u001b[0;32m<ipython-input-176-64cf579baa7e>\u001b[0m in \u001b[0;36m<module>\u001b[0;34m\u001b[0m\n\u001b[1;32m     34\u001b[0m         \u001b[0mend\u001b[0m\u001b[0;34m=\u001b[0m\u001b[0mtime\u001b[0m\u001b[0;34m.\u001b[0m\u001b[0mtime\u001b[0m\u001b[0;34m(\u001b[0m\u001b[0;34m)\u001b[0m\u001b[0;34m\u001b[0m\u001b[0;34m\u001b[0m\u001b[0m\n\u001b[1;32m     35\u001b[0m         \u001b[0mtimeEA\u001b[0m\u001b[0;34m[\u001b[0m\u001b[0mindex\u001b[0m\u001b[0;34m]\u001b[0m \u001b[0;34m=\u001b[0m \u001b[0mend\u001b[0m\u001b[0;34m-\u001b[0m\u001b[0mstart\u001b[0m\u001b[0;34m\u001b[0m\u001b[0;34m\u001b[0m\u001b[0m\n\u001b[0;32m---> 36\u001b[0;31m         \u001b[0maccuEA\u001b[0m\u001b[0;34m[\u001b[0m\u001b[0mindex\u001b[0m\u001b[0;34m]\u001b[0m \u001b[0;34m=\u001b[0m \u001b[0mabs\u001b[0m\u001b[0;34m(\u001b[0m\u001b[0mnp\u001b[0m\u001b[0;34m.\u001b[0m\u001b[0mlinalg\u001b[0m\u001b[0;34m.\u001b[0m\u001b[0mnorm\u001b[0m\u001b[0;34m(\u001b[0m\u001b[0mnp\u001b[0m\u001b[0;34m.\u001b[0m\u001b[0mmatmul\u001b[0m\u001b[0;34m(\u001b[0m\u001b[0mnp\u001b[0m\u001b[0;34m.\u001b[0m\u001b[0mmatmul\u001b[0m\u001b[0;34m(\u001b[0m\u001b[0mu\u001b[0m\u001b[0;34m,\u001b[0m\u001b[0mnp\u001b[0m\u001b[0;34m.\u001b[0m\u001b[0mmatrix\u001b[0m\u001b[0;34m.\u001b[0m\u001b[0mtranspose\u001b[0m\u001b[0;34m(\u001b[0m\u001b[0mu\u001b[0m\u001b[0;34m)\u001b[0m\u001b[0;34m)\u001b[0m\u001b[0;34m,\u001b[0m\u001b[0mA\u001b[0m\u001b[0;34m)\u001b[0m\u001b[0;34m)\u001b[0m\u001b[0;34m-\u001b[0m\u001b[0mpsd_norm\u001b[0m\u001b[0;34m[\u001b[0m\u001b[0mi\u001b[0m\u001b[0;34m]\u001b[0m\u001b[0;34m)\u001b[0m\u001b[0;34m\u001b[0m\u001b[0;34m\u001b[0m\u001b[0m\n\u001b[0m\u001b[1;32m     37\u001b[0m \u001b[0;34m\u001b[0m\u001b[0m\n\u001b[1;32m     38\u001b[0m \u001b[0;34m\u001b[0m\u001b[0m\n",
      "\u001b[0;31mIndexError\u001b[0m: index 2 is out of bounds for axis 0 with size 2"
     ]
    }
   ],
   "source": [
    "#test the algorithm for same size of A but different sparcity.\n",
    "count=0\n",
    "for i in range(size_ct):\n",
    "    #create random matrix A and record it's norm and sparcity\n",
    "    ds = (i+1)/int(size_ct+1)\n",
    "    A = spr(3000,3000,density=ds).A\n",
    "    A = np.matmul(A.transpose(),A)\n",
    "    psd_norm_sps[i]=np.linalg.norm(A)\n",
    "    psd_sparcity_sps[i]=sparcity(A)\n",
    "    #create list to store result for different k but same A\n",
    "    timeNA=np.zeros(len(K))\n",
    "    accuNA=np.zeros(len(K))\n",
    "    timeGA=np.zeros(len(K))\n",
    "    accuGA=np.zeros(len(K))\n",
    "    timeEA=np.zeros(len(K))\n",
    "    accuEA=np.zeros(len(K))\n",
    "    #get coherence u\n",
    "    inputU = get_u(A)\n",
    "    \n",
    "    index=0\n",
    "    #test for different k values\n",
    "    for kn in K:\n",
    "        print(count)\n",
    "        count+=1\n",
    "        timeN=np.zeros(repeatTime)\n",
    "        accuN=np.zeros(repeatTime)\n",
    "        timeG=np.zeros(repeatTime)\n",
    "        accuG=np.zeros(repeatTime)\n",
    "        \n",
    "        \n",
    "        #for svd\n",
    "        start=time.time()\n",
    "        u,s,vt=svds(A,k=kn)\n",
    "        end=time.time()\n",
    "        timeEA[index] = end-start\n",
    "        accuEA[index] = abs(np.linalg.norm(np.matmul(np.matmul(u,np.matrix.transpose(u)),A))-psd_norm[i])\n",
    "        \n",
    "        \n",
    "        \n",
    "        #repeat nystrom extension for several times\n",
    "        l=get_l_ny(inputU,kn,epslon,delta,0)\n",
    "        #print(\"ny:  \",l)\n",
    "        for j in range(repeatTime):\n",
    "            start=time.time()\n",
    "            resultR=approximation(A,l,0)\n",
    "            end=time.time()\n",
    "            timeN[j]=end-start\n",
    "            accR=abs(np.linalg.norm(resultR)-psd_norm[i])\n",
    "            accuN[j]=accR\n",
    "        timeNA[index] = np.average(timeN)\n",
    "        accuNA[index] = np.average(accuN)\n",
    "        \n",
    "        #repeat guassian extension for several times\n",
    "        l=get_l_gs(kn,epslon)\n",
    "        #print(\"gs:  \",l)\n",
    "        for j in range(repeatTime):\n",
    "            start=time.time()\n",
    "            resultR=approximation(A,l,2)\n",
    "            end=time.time()\n",
    "            timeG[j]=end-start\n",
    "            accR=abs(np.linalg.norm(resultR)-psd_norm[i])\n",
    "            accuG[j]=accR\n",
    "        timeGA[index] = np.average(timeG)\n",
    "        accuGA[index] = np.average(accuG)\n",
    "        \n",
    "        index+=1\n",
    "        \n",
    "    ny_time_sps[i] = timeNA\n",
    "    ny_accu_sps[i] = accuNA\n",
    "    gs_time_sps[i] = timeGA\n",
    "    gs_accu_sps[i] = accuGA\n",
    "    esvd_time_sps[i] = timeEA\n",
    "    esvd_accu_sps[i] = accuEA\n"
   ]
  },
  {
   "cell_type": "markdown",
   "metadata": {},
   "source": [
    "# SVM"
   ]
  },
  {
   "cell_type": "code",
   "execution_count": 17,
   "metadata": {},
   "outputs": [],
   "source": [
    "import pandas as pd"
   ]
  },
  {
   "cell_type": "code",
   "execution_count": 18,
   "metadata": {},
   "outputs": [
    {
     "data": {
      "text/html": [
       "<div>\n",
       "<style scoped>\n",
       "    .dataframe tbody tr th:only-of-type {\n",
       "        vertical-align: middle;\n",
       "    }\n",
       "\n",
       "    .dataframe tbody tr th {\n",
       "        vertical-align: top;\n",
       "    }\n",
       "\n",
       "    .dataframe thead th {\n",
       "        text-align: right;\n",
       "    }\n",
       "</style>\n",
       "<table border=\"1\" class=\"dataframe\">\n",
       "  <thead>\n",
       "    <tr style=\"text-align: right;\">\n",
       "      <th></th>\n",
       "      <th>meanfreq</th>\n",
       "      <th>sd</th>\n",
       "      <th>median</th>\n",
       "      <th>Q25</th>\n",
       "      <th>Q75</th>\n",
       "      <th>IQR</th>\n",
       "      <th>skew</th>\n",
       "      <th>kurt</th>\n",
       "      <th>sp.ent</th>\n",
       "      <th>sfm</th>\n",
       "      <th>...</th>\n",
       "      <th>centroid</th>\n",
       "      <th>meanfun</th>\n",
       "      <th>minfun</th>\n",
       "      <th>maxfun</th>\n",
       "      <th>meandom</th>\n",
       "      <th>mindom</th>\n",
       "      <th>maxdom</th>\n",
       "      <th>dfrange</th>\n",
       "      <th>modindx</th>\n",
       "      <th>label</th>\n",
       "    </tr>\n",
       "  </thead>\n",
       "  <tbody>\n",
       "    <tr>\n",
       "      <th>0</th>\n",
       "      <td>0.059781</td>\n",
       "      <td>0.064241</td>\n",
       "      <td>0.032027</td>\n",
       "      <td>0.015071</td>\n",
       "      <td>0.090193</td>\n",
       "      <td>0.075122</td>\n",
       "      <td>12.863462</td>\n",
       "      <td>274.402906</td>\n",
       "      <td>0.893369</td>\n",
       "      <td>0.491918</td>\n",
       "      <td>...</td>\n",
       "      <td>0.059781</td>\n",
       "      <td>0.084279</td>\n",
       "      <td>0.015702</td>\n",
       "      <td>0.275862</td>\n",
       "      <td>0.007812</td>\n",
       "      <td>0.007812</td>\n",
       "      <td>0.007812</td>\n",
       "      <td>0.000000</td>\n",
       "      <td>0.000000</td>\n",
       "      <td>male</td>\n",
       "    </tr>\n",
       "    <tr>\n",
       "      <th>1</th>\n",
       "      <td>0.066009</td>\n",
       "      <td>0.067310</td>\n",
       "      <td>0.040229</td>\n",
       "      <td>0.019414</td>\n",
       "      <td>0.092666</td>\n",
       "      <td>0.073252</td>\n",
       "      <td>22.423285</td>\n",
       "      <td>634.613855</td>\n",
       "      <td>0.892193</td>\n",
       "      <td>0.513724</td>\n",
       "      <td>...</td>\n",
       "      <td>0.066009</td>\n",
       "      <td>0.107937</td>\n",
       "      <td>0.015826</td>\n",
       "      <td>0.250000</td>\n",
       "      <td>0.009014</td>\n",
       "      <td>0.007812</td>\n",
       "      <td>0.054688</td>\n",
       "      <td>0.046875</td>\n",
       "      <td>0.052632</td>\n",
       "      <td>male</td>\n",
       "    </tr>\n",
       "    <tr>\n",
       "      <th>2</th>\n",
       "      <td>0.077316</td>\n",
       "      <td>0.083829</td>\n",
       "      <td>0.036718</td>\n",
       "      <td>0.008701</td>\n",
       "      <td>0.131908</td>\n",
       "      <td>0.123207</td>\n",
       "      <td>30.757155</td>\n",
       "      <td>1024.927705</td>\n",
       "      <td>0.846389</td>\n",
       "      <td>0.478905</td>\n",
       "      <td>...</td>\n",
       "      <td>0.077316</td>\n",
       "      <td>0.098706</td>\n",
       "      <td>0.015656</td>\n",
       "      <td>0.271186</td>\n",
       "      <td>0.007990</td>\n",
       "      <td>0.007812</td>\n",
       "      <td>0.015625</td>\n",
       "      <td>0.007812</td>\n",
       "      <td>0.046512</td>\n",
       "      <td>male</td>\n",
       "    </tr>\n",
       "    <tr>\n",
       "      <th>3</th>\n",
       "      <td>0.151228</td>\n",
       "      <td>0.072111</td>\n",
       "      <td>0.158011</td>\n",
       "      <td>0.096582</td>\n",
       "      <td>0.207955</td>\n",
       "      <td>0.111374</td>\n",
       "      <td>1.232831</td>\n",
       "      <td>4.177296</td>\n",
       "      <td>0.963322</td>\n",
       "      <td>0.727232</td>\n",
       "      <td>...</td>\n",
       "      <td>0.151228</td>\n",
       "      <td>0.088965</td>\n",
       "      <td>0.017798</td>\n",
       "      <td>0.250000</td>\n",
       "      <td>0.201497</td>\n",
       "      <td>0.007812</td>\n",
       "      <td>0.562500</td>\n",
       "      <td>0.554688</td>\n",
       "      <td>0.247119</td>\n",
       "      <td>male</td>\n",
       "    </tr>\n",
       "    <tr>\n",
       "      <th>4</th>\n",
       "      <td>0.135120</td>\n",
       "      <td>0.079146</td>\n",
       "      <td>0.124656</td>\n",
       "      <td>0.078720</td>\n",
       "      <td>0.206045</td>\n",
       "      <td>0.127325</td>\n",
       "      <td>1.101174</td>\n",
       "      <td>4.333713</td>\n",
       "      <td>0.971955</td>\n",
       "      <td>0.783568</td>\n",
       "      <td>...</td>\n",
       "      <td>0.135120</td>\n",
       "      <td>0.106398</td>\n",
       "      <td>0.016931</td>\n",
       "      <td>0.266667</td>\n",
       "      <td>0.712812</td>\n",
       "      <td>0.007812</td>\n",
       "      <td>5.484375</td>\n",
       "      <td>5.476562</td>\n",
       "      <td>0.208274</td>\n",
       "      <td>male</td>\n",
       "    </tr>\n",
       "  </tbody>\n",
       "</table>\n",
       "<p>5 rows × 21 columns</p>\n",
       "</div>"
      ],
      "text/plain": [
       "   meanfreq        sd    median       Q25       Q75       IQR       skew  \\\n",
       "0  0.059781  0.064241  0.032027  0.015071  0.090193  0.075122  12.863462   \n",
       "1  0.066009  0.067310  0.040229  0.019414  0.092666  0.073252  22.423285   \n",
       "2  0.077316  0.083829  0.036718  0.008701  0.131908  0.123207  30.757155   \n",
       "3  0.151228  0.072111  0.158011  0.096582  0.207955  0.111374   1.232831   \n",
       "4  0.135120  0.079146  0.124656  0.078720  0.206045  0.127325   1.101174   \n",
       "\n",
       "          kurt    sp.ent       sfm  ...  centroid   meanfun    minfun  \\\n",
       "0   274.402906  0.893369  0.491918  ...  0.059781  0.084279  0.015702   \n",
       "1   634.613855  0.892193  0.513724  ...  0.066009  0.107937  0.015826   \n",
       "2  1024.927705  0.846389  0.478905  ...  0.077316  0.098706  0.015656   \n",
       "3     4.177296  0.963322  0.727232  ...  0.151228  0.088965  0.017798   \n",
       "4     4.333713  0.971955  0.783568  ...  0.135120  0.106398  0.016931   \n",
       "\n",
       "     maxfun   meandom    mindom    maxdom   dfrange   modindx  label  \n",
       "0  0.275862  0.007812  0.007812  0.007812  0.000000  0.000000   male  \n",
       "1  0.250000  0.009014  0.007812  0.054688  0.046875  0.052632   male  \n",
       "2  0.271186  0.007990  0.007812  0.015625  0.007812  0.046512   male  \n",
       "3  0.250000  0.201497  0.007812  0.562500  0.554688  0.247119   male  \n",
       "4  0.266667  0.712812  0.007812  5.484375  5.476562  0.208274   male  \n",
       "\n",
       "[5 rows x 21 columns]"
      ]
     },
     "execution_count": 18,
     "metadata": {},
     "output_type": "execute_result"
    }
   ],
   "source": [
    "#import data with pandas\n",
    "data = pd.read_csv(\"voice.csv\")\n",
    "data.head()"
   ]
  },
  {
   "cell_type": "code",
   "execution_count": 112,
   "metadata": {},
   "outputs": [
    {
     "data": {
      "text/plain": [
       "(3168, 21)"
      ]
     },
     "execution_count": 112,
     "metadata": {},
     "output_type": "execute_result"
    }
   ],
   "source": [
    "data.shape"
   ]
  },
  {
   "cell_type": "markdown",
   "metadata": {},
   "source": [
    "## split X and Y\n",
    "X = data.iloc[:,:-1]\n",
    "Y = data.iloc[:,-1]"
   ]
  },
  {
   "cell_type": "code",
   "execution_count": 21,
   "metadata": {},
   "outputs": [],
   "source": [
    "#preprocessing data\n",
    "from sklearn import preprocessing\n",
    "from sklearn.model_selection import train_test_split\n",
    "#encode Y\n",
    "le = preprocessing.LabelEncoder()\n",
    "le.fit([\"male\",\"female\"])\n",
    "Y = le.transform(Y)"
   ]
  },
  {
   "cell_type": "code",
   "execution_count": 26,
   "metadata": {},
   "outputs": [],
   "source": [
    "#split train and test set\n",
    "X_train, X_test, y_train, y_test = train_test_split(X, Y, test_size=0.2, random_state=1)"
   ]
  },
  {
   "cell_type": "code",
   "execution_count": 27,
   "metadata": {},
   "outputs": [],
   "source": [
    "#standartdize X\n",
    "scaler = preprocessing.StandardScaler().fit(X_train)\n",
    "X_trainS = scaler.transform(X_train)\n",
    "X_testS = scaler.transform(X_test)"
   ]
  },
  {
   "cell_type": "code",
   "execution_count": 57,
   "metadata": {
    "scrolled": true
   },
   "outputs": [
    {
     "name": "stdout",
     "output_type": "stream",
     "text": [
      "time used to fit the model with linear kernel without approximation:  3.52838397026062\n"
     ]
    }
   ],
   "source": [
    "#train with model with linear kernel without approximation\n",
    "from sklearn import svm\n",
    "svcl = svm.SVC(kernel='linear')\n",
    "start = time.time()\n",
    "svcl.fit(X_train,y_train)\n",
    "end = time.time()\n",
    "print(\"time used to fit the model with linear kernel without approximation: \",end-start)"
   ]
  },
  {
   "cell_type": "code",
   "execution_count": 113,
   "metadata": {},
   "outputs": [
    {
     "name": "stdout",
     "output_type": "stream",
     "text": [
      "accuracy of the model with linear kernel without approximation:  0.9148264984227129\n"
     ]
    }
   ],
   "source": [
    "#accuracy score for linear kernel without approximation\n",
    "from sklearn.metrics import accuracy_score\n",
    "y_pred = svcl.predict(X_test)\n",
    "print(\"accuracy of the model with linear kernel without approximation: \",accuracy_score(y_test, y_pred))"
   ]
  },
  {
   "cell_type": "code",
   "execution_count": 104,
   "metadata": {},
   "outputs": [],
   "source": [
    "#calculate gram matrix\n",
    "train = np.asarray(X_trainS)\n",
    "gram = np.matmul(train,train.transpose())\n",
    "gram.shape\n",
    "k = 10\n",
    "epslon=0.9"
   ]
  },
  {
   "cell_type": "code",
   "execution_count": 105,
   "metadata": {},
   "outputs": [
    {
     "name": "stdout",
     "output_type": "stream",
     "text": [
      "time used to approximate with gaussian extension:  0.1310422420501709\n"
     ]
    }
   ],
   "source": [
    "#approximate the gram matrix with the sketch and guassian extension\n",
    "l=get_l_gs(k,epslon)\n",
    "start=time.time()\n",
    "gramapprox = approximation(gram,l,2)\n",
    "end = time.time()\n",
    "print(\"time used to approximate with gaussian extension: \",end-start)"
   ]
  },
  {
   "cell_type": "code",
   "execution_count": 106,
   "metadata": {},
   "outputs": [
    {
     "name": "stdout",
     "output_type": "stream",
     "text": [
      "time used to fit the model with linear kernel with gaussian approximation:  0.07590723037719727\n"
     ]
    }
   ],
   "source": [
    "#fit model with linear kernel with approximation\n",
    "svcl_app_g = svm.SVC(kernel='precomputed')\n",
    "start = time.time()\n",
    "svcl_app_g.fit(gramapprox,y_train)\n",
    "end = time.time()\n",
    "print(\"time used to fit the model with linear kernel with gaussian approximation: \",end-start)"
   ]
  },
  {
   "cell_type": "code",
   "execution_count": 114,
   "metadata": {},
   "outputs": [
    {
     "name": "stdout",
     "output_type": "stream",
     "text": [
      "accuracy of the model with linear kernel with gaussian approximation:  0.9779179810725552\n"
     ]
    }
   ],
   "source": [
    "#accuracy score for linear kernel with gaussian approximation\n",
    "kernel_test = np.dot(X_testS, X_trainS.T)\n",
    "y_pred_app = svcl_app.predict(kernel_test)\n",
    "print(\"accuracy of the model with linear kernel with gaussian approximation: \",accuracy_score(y_test, y_pred_app))"
   ]
  },
  {
   "cell_type": "code",
   "execution_count": 99,
   "metadata": {},
   "outputs": [],
   "source": [
    "u=get_u(gram)"
   ]
  },
  {
   "cell_type": "code",
   "execution_count": 116,
   "metadata": {},
   "outputs": [
    {
     "name": "stdout",
     "output_type": "stream",
     "text": [
      "time used to approximate with nystrom extension:  0.21469998359680176\n"
     ]
    }
   ],
   "source": [
    "#approximate the gram matrix with the sketch and nystrom extension\n",
    "#l_n=get_l_ny(u,k,epslon,0.9,0)\n",
    "start=time.time()\n",
    "gramapproxn = approximation(gram,2*k,0)\n",
    "end = time.time()\n",
    "print(\"time used to approximate with nystrom extension: \",end-start)"
   ]
  },
  {
   "cell_type": "code",
   "execution_count": 109,
   "metadata": {},
   "outputs": [
    {
     "name": "stdout",
     "output_type": "stream",
     "text": [
      "time used to fit the model with linear kernel with gaussian approximation:  0.08150100708007812\n"
     ]
    }
   ],
   "source": [
    "#fit model with linear kernel with approximation\n",
    "svcl_app_n = svm.SVC(kernel='precomputed')\n",
    "start = time.time()\n",
    "svcl_app_n.fit(gramapproxn,y_train)\n",
    "end = time.time()\n",
    "print(\"time used to fit the model with linear kernel with gaussian approximation: \",end-start)"
   ]
  },
  {
   "cell_type": "code",
   "execution_count": 117,
   "metadata": {},
   "outputs": [
    {
     "name": "stdout",
     "output_type": "stream",
     "text": [
      "accuracy of the model with linear kernel with gaussian approximation:  0.9779179810725552\n"
     ]
    }
   ],
   "source": [
    "#accuracy score for linear kernel with gaussian approximation\n",
    "kernel_test = np.dot(X_testS, X_trainS.T)\n",
    "y_pred_app = svcl_app_n.predict(kernel_test)\n",
    "print(\"accuracy of the model with linear kernel with gaussian approximation: \",accuracy_score(y_test, y_pred_app))"
   ]
  },
  {
   "cell_type": "code",
   "execution_count": 111,
   "metadata": {},
   "outputs": [
    {
     "name": "stdout",
     "output_type": "stream",
     "text": [
      "[[ 1.14290799e-11  9.23705556e-13 -2.44249065e-12 ...  1.05204734e-12\n",
      "   3.08375547e-12 -4.40536496e-12]\n",
      " [-4.48707738e-12  1.11199938e-12  1.24766864e-12 ...  2.27512453e-13\n",
      "  -3.56159546e-12  1.43662859e-12]\n",
      " [ 6.56363852e-12  1.48769885e-12 -1.39621648e-12 ...  1.05759845e-12\n",
      "   1.34470213e-12 -2.34456898e-12]\n",
      " ...\n",
      " [ 1.42552636e-12 -1.88515870e-13 -1.68931535e-12 ...  3.09086090e-13\n",
      "  -1.31539224e-12 -1.62536651e-12]\n",
      " [-1.26618716e-11 -8.17124146e-14  2.92565971e-12 ... -1.89981364e-12\n",
      "  -7.70938868e-13  4.20108393e-12]\n",
      " [ 3.40261153e-12 -1.83852933e-13 -1.95399252e-12 ...  8.23341395e-13\n",
      "  -1.68398628e-12 -1.21858079e-12]]\n"
     ]
    }
   ],
   "source": [
    "print(gramapproxn-gramapprox)"
   ]
  },
  {
   "cell_type": "code",
   "execution_count": 172,
   "metadata": {},
   "outputs": [],
   "source": [
    "import json\n",
    "\n",
    "with open('result.json') as f:\n",
    "  data = json.load(f)"
   ]
  },
  {
   "cell_type": "code",
   "execution_count": 173,
   "metadata": {},
   "outputs": [
    {
     "name": "stdout",
     "output_type": "stream",
     "text": [
      "{'version_major': 2, 'version_minor': 0, 'state': {}}\n"
     ]
    }
   ],
   "source": [
    "print(data)"
   ]
  },
  {
   "cell_type": "code",
   "execution_count": null,
   "metadata": {},
   "outputs": [],
   "source": []
  }
 ],
 "metadata": {
  "kernelspec": {
   "display_name": "Python 3",
   "language": "python",
   "name": "python3"
  },
  "language_info": {
   "codemirror_mode": {
    "name": "ipython",
    "version": 3
   },
   "file_extension": ".py",
   "mimetype": "text/x-python",
   "name": "python",
   "nbconvert_exporter": "python",
   "pygments_lexer": "ipython3",
   "version": "3.6.8"
  }
 },
 "nbformat": 4,
 "nbformat_minor": 2
}
