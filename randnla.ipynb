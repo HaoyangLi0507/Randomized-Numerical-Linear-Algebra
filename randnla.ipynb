{
 "cells": [
  {
   "cell_type": "code",
   "execution_count": 1,
   "metadata": {},
   "outputs": [],
   "source": [
    "import numpy as np\n",
    "import math\n",
    "import time\n",
    "import matplotlib.pyplot as plt\n",
    "from numba import jit\n",
    "from scipy.linalg import hadamard\n",
    "from scipy import linalg\n",
    "from sklearn.utils import extmath\n",
    "from scipy.misc import toimage\n",
    "import cv2\n",
    "from PIL import Image"
   ]
  },
  {
   "cell_type": "markdown",
   "metadata": {},
   "source": [
    "# Matrix multuplication"
   ]
  },
  {
   "cell_type": "code",
   "execution_count": 13,
   "metadata": {},
   "outputs": [],
   "source": [
    "#calculate probability\n",
    "def max_fnorm(A,B):\n",
    "    fnorms=np.zeros(A.shape[1])\n",
    "    nsum=0\n",
    "    for i in range(A.shape[1]):\n",
    "        fnorm=np.linalg.norm(A[:,i]) * np.linalg.norm(B[i,:])\n",
    "        fnorms[i]=fnorm\n",
    "        nsum=nsum+fnorm\n",
    "    return fnorms/nsum"
   ]
  },
  {
   "cell_type": "code",
   "execution_count": 14,
   "metadata": {},
   "outputs": [],
   "source": [
    "#random matrix multiplication\n",
    "def rand_matrix_mul(A,B,c,probability):\n",
    "    col=np.array(range(A.shape[1]))\n",
    "    msum=np.zeros([A.shape[0],B.shape[1]])\n",
    "    for i in range(c):\n",
    "        j=np.random.choice(col,p=probability)\n",
    "        Aj=np.reshape(A[:,j],[len(A[:,j]),1])\n",
    "        Bj=np.reshape(B[j,:],[1,len(B[j,:])])\n",
    "        mul=np.matmul(Aj,Bj)/(c*p[j])\n",
    "        msum=msum+mul\n",
    "    return msum"
   ]
  },
  {
   "cell_type": "code",
   "execution_count": 15,
   "metadata": {},
   "outputs": [
    {
     "name": "stdout",
     "output_type": "stream",
     "text": [
      "exact time used:  9.710940837860107\n",
      "exact norm:  625019770337167.9\n"
     ]
    }
   ],
   "source": [
    "#create random array\n",
    "A = np.random.rand(1000,100000)\n",
    "B = np.random.rand(100000,1000)\n",
    "C = np.array(range(50,501,50))\n",
    "times=np.zeros(len(C))\n",
    "errors=np.zeros(len(C))\n",
    "\n",
    "#calculate the exact matrix multiplication\n",
    "start=time.time()\n",
    "exact=np.matmul(A,B)\n",
    "end=time.time()\n",
    "print(\"exact time used: \",end-start)\n",
    "extfnorm=np.linalg.norm(exact)\n",
    "print('exact norm: ',extfnorm*extfnorm)\n",
    "\n",
    "#get the probability\n",
    "p=max_fnorm(A,B)\n",
    "#calculate the random matrix multiplication\n",
    "index=0\n",
    "for c in C:\n",
    "    timS = np.zeros(70)\n",
    "    errS = np.zeros(70)\n",
    "    for i in range(70):\n",
    "        start=time.time()\n",
    "        random=rand_matrix_mul(A,B,c,p)\n",
    "        end=time.time()\n",
    "        error=np.linalg.norm(exact-random)\n",
    "        timS[i] = end-start\n",
    "        errS = error*error/(extfnorm*extfnorm)\n",
    "    times[index]=np.average(timS)\n",
    "    errors[index]=np.average(errS)\n",
    "    index+=1"
   ]
  },
  {
   "cell_type": "code",
   "execution_count": 16,
   "metadata": {},
   "outputs": [
    {
     "data": {
      "text/plain": [
       "<matplotlib.collections.PathCollection at 0xd3f0c0470>"
      ]
     },
     "execution_count": 16,
     "metadata": {},
     "output_type": "execute_result"
    },
    {
     "data": {
      "image/png": "[encoded data removed]",
      "text/plain": [
       "<Figure size 432x288 with 1 Axes>"
      ]
     },
     "metadata": {
      "needs_background": "light"
     },
     "output_type": "display_data"
    }
   ],
   "source": [
    "plt.scatter(C,times)\n",
    "#plt.scatter(C,errors)"
   ]
  },
  {
   "cell_type": "code",
   "execution_count": 17,
   "metadata": {},
   "outputs": [
    {
     "data": {
      "text/plain": [
       "<matplotlib.collections.PathCollection at 0xd3fb71c50>"
      ]
     },
     "execution_count": 17,
     "metadata": {},
     "output_type": "execute_result"
    },
    {
     "data": {
      "image/png": "[encoded data removed]",
      "text/plain": [
       "<Figure size 432x288 with 1 Axes>"
      ]
     },
     "metadata": {
      "needs_background": "light"
     },
     "output_type": "display_data"
    }
   ],
   "source": [
    "plt.scatter(C,errors)"
   ]
  },
  {
   "cell_type": "markdown",
   "metadata": {},
   "source": [
    "# Low rank matrix approximation"
   ]
  },
  {
   "cell_type": "code",
   "execution_count": 6,
   "metadata": {},
   "outputs": [],
   "source": [
    "def hadamardM(H,n,index):\n",
    "    if index==n:\n",
    "        return H\n",
    "    if index==1:\n",
    "        H[0,0]=1\n",
    "        H[0,1]=1\n",
    "        H[1,0]=1\n",
    "        H[1,1]=-1\n",
    "    else:\n",
    "        H[0:index,index:index+index]=H[0:index,0:index]\n",
    "        H[index:index+index,0:index]=H[0:index,0:index]\n",
    "        H[index:index+index,index:index+index]=H[0:index,0:index]*(-1)\n",
    "    index=2*index\n",
    "    return hadamardM(H,n,index)"
   ]
  },
  {
   "cell_type": "code",
   "execution_count": 7,
   "metadata": {},
   "outputs": [],
   "source": [
    "def low_rank_matrix(A,k):\n",
    "    #calculating c with c0=1 and e=0.25\n",
    "    n=A.shape[1]\n",
    "    co=0.01\n",
    "    c=int(co*k*math.log(n)*(math.log(k/0.0625)+math.log(math.log(n)))/0.0625)+2\n",
    "    H=hadamard(n)/math.sqrt(n)\n",
    "    C=range(n)\n",
    "    chosen=np.random.choice(C,size=c)\n",
    "    D=np.zeros([n,n])\n",
    "    for i in range(n):\n",
    "        D[i,i]=np.random.choice([1,-1])\n",
    "    AD=np.matmul(A,D)\n",
    "    approx=np.zeros([A.shape[0],c])\n",
    "    for i in range(c):\n",
    "        approx[:,i]=np.matmul(AD,H[:,chosen[i]])\n",
    "    base=linalg.orth(approx)\n",
    "    W=np.matmul(np.matrix.transpose(base),A)\n",
    "    leftW=np.linalg.svd(W)[0][:,0:k]\n",
    "    approximation=np.matmul(base,leftW)\n",
    "    return approximation"
   ]
  },
  {
   "cell_type": "code",
   "execution_count": 100,
   "metadata": {},
   "outputs": [],
   "source": [
    "def rsvd(A,k):\n",
    "    IA=A\n",
    "    #IA=np.matmul(np.matmul(IA,np.matrix.transpose(IA)),IA)\n",
    "    #row_sums = IA.sum(axis=1)\n",
    "    #IA = IA / row_sums[:, np.newaxis]\n",
    "    omega=np.random.rand(IA.shape[1],k)\n",
    "    Q,R=np.linalg.qr(np.matmul(IA,omega))\n",
    "    S,sigma,Vt=np.linalg.svd(np.matmul(np.matrix.transpose(Q),IA))\n",
    "    return np.matmul(Q,S),sigma,Vt[0:k,:]"
   ]
  },
  {
   "cell_type": "code",
   "execution_count": 70,
   "metadata": {},
   "outputs": [],
   "source": [
    "#creating A\n",
    "A=np.random.rand(4096,4096)"
   ]
  },
  {
   "cell_type": "code",
   "execution_count": 41,
   "metadata": {},
   "outputs": [
    {
     "name": "stdout",
     "output_type": "stream",
     "text": [
      "7.498075246810913\n"
     ]
    }
   ],
   "source": [
    "#randomized low rank matrix approximation\n",
    "start=time.time()\n",
    "resultR=low_rank_matrix(A,10)\n",
    "end=time.time()\n",
    "print(end-start)"
   ]
  },
  {
   "cell_type": "code",
   "execution_count": 90,
   "metadata": {},
   "outputs": [
    {
     "name": "stdout",
     "output_type": "stream",
     "text": [
      "1.7422900199890137\n"
     ]
    }
   ],
   "source": [
    "#randomized svd by myself\n",
    "start=time.time()\n",
    "resultSRU,resultSRS,resultSRVT=rsvd(A,10)\n",
    "end=time.time()\n",
    "print(end-start)"
   ]
  },
  {
   "cell_type": "code",
   "execution_count": 22,
   "metadata": {},
   "outputs": [
    {
     "name": "stdout",
     "output_type": "stream",
     "text": [
      "54.56694674491882\n"
     ]
    }
   ],
   "source": [
    "#exact SVD\n",
    "start=time.time()\n",
    "resultE=np.linalg.svd(A)\n",
    "end=time.time()\n",
    "print(end-start)"
   ]
  },
  {
   "cell_type": "code",
   "execution_count": 91,
   "metadata": {},
   "outputs": [
    {
     "name": "stdout",
     "output_type": "stream",
     "text": [
      "1.105997085571289\n"
     ]
    }
   ],
   "source": [
    "#randomized SVD\n",
    "start=time.time()\n",
    "resultS=extmath.randomized_svd(A,10)\n",
    "end=time.time()\n",
    "print(end-start)"
   ]
  },
  {
   "cell_type": "code",
   "execution_count": 114,
   "metadata": {},
   "outputs": [],
   "source": [
    "timeM=np.zeros(10)\n",
    "timeS=np.zeros(10)\n",
    "timeR=np.zeros(10)\n",
    "accuracyM=np.zeros(10)\n",
    "accuracyS=np.zeros(10)\n",
    "accuracyR=np.zeros(10)\n",
    "\n",
    "K=np.arange(10,101,10)\n",
    "index=0\n",
    "norm=np.linalg.norm(A)\n",
    "for k in K:\n",
    "    #for mine\n",
    "    start=time.time()\n",
    "    resultSRU,resultSRS,resultSRVT=rsvd(A,k)\n",
    "    end=time.time()\n",
    "    timeM[index]=end-start\n",
    "    v=len(resultSRS)\n",
    "    V=np.zeros([v,v])\n",
    "    for i in range(v):\n",
    "        V[i,i]=resultSRS[i]\n",
    "    accuracyM[index]=abs(np.linalg.norm(np.matmul(np.matmul(resultSRU,V),resultSRVT))-norm)\n",
    "    \n",
    "    #for rsvd\n",
    "    start=time.time()\n",
    "    resultS=extmath.randomized_svd(A,k)\n",
    "    end=time.time()\n",
    "    timeS[index]=end-start\n",
    "    v=len(resultS[1])\n",
    "    V=np.zeros([v,v])\n",
    "    for i in range(v):\n",
    "        V[i,i]=resultS[1][i]\n",
    "    accuracyS[index]=abs(np.linalg.norm(np.matmul(np.matmul(resultS[0],V),resultS[2]))-norm)\n",
    "    \n",
    "    #for low rank approx\n",
    "    start=time.time()\n",
    "    resultR=low_rank_matrix(A,k)\n",
    "    end=time.time()\n",
    "    timeR[index]=end-start\n",
    "    #accuracyR[index]=abs(np.linalg.norm(np.matmul(np.matmul(resultR,np.matrix.transpose(resultR)),A))-norm)\n",
    "    accuracyR[index]=abs(np.linalg.norm(np.matmul(np.matmul(resultR,np.matrix.transpose(resultR)),A)))\n",
    "\n",
    "    \n",
    "    index+=1"
   ]
  },
  {
   "cell_type": "code",
   "execution_count": 122,
   "metadata": {},
   "outputs": [
    {
     "data": {
      "image/png": "[encoded data removed]",
      "text/plain": [
       "<Figure size 432x288 with 1 Axes>"
      ]
     },
     "metadata": {
      "needs_background": "light"
     },
     "output_type": "display_data"
    },
    {
     "data": {
      "text/plain": [
       "'\\nX = accuracyM\\nY = accuracyS\\nfig2 = plt.figure()\\nax2 = fig.add_subplot(111)\\n\\nax2.scatter(X, K, s=10, c=\\'b\\', marker=\"s\", label=\\'mine\\')\\nax2.scatter(Y,K, s=10, c=\\'r\\', marker=\"o\", label=\\'sklearn\\')\\nplt.legend(loc=\\'upper left\\');\\nplt.show()\\n'"
      ]
     },
     "execution_count": 122,
     "metadata": {},
     "output_type": "execute_result"
    }
   ],
   "source": [
    "accuracyRC=abs(accuracyR-norm)\n",
    "x = accuracyM\n",
    "y = accuracyS\n",
    "z = accuracyRC\n",
    "fig = plt.figure()\n",
    "ax1 = fig.add_subplot(111)\n",
    "\n",
    "ax1.scatter(K,x, s=10, c='b', marker=\"s\", label='mine')\n",
    "ax1.scatter(K,y, s=10, c='r', marker=\"o\", label='sklearn')\n",
    "ax1.scatter(K,z, s=10, c='g', marker=\"s\", label='low_rank')\n",
    "plt.legend(loc='upper left');\n",
    "plt.show()"
   ]
  },
  {
   "cell_type": "code",
   "execution_count": 123,
   "metadata": {},
   "outputs": [
    {
     "name": "stdout",
     "output_type": "stream",
     "text": [
      "[319.36529001 314.49332531 311.22339504 308.51326734 305.84387916\n",
      " 303.07121231 300.37766422 297.65172752 294.88484365 292.12429398]\n"
     ]
    }
   ],
   "source": [
    "print(accuracyR)"
   ]
  },
  {
   "cell_type": "code",
   "execution_count": 45,
   "metadata": {},
   "outputs": [
    {
     "name": "stdout",
     "output_type": "stream",
     "text": [
      "2046.4941259646664\n"
     ]
    }
   ],
   "source": [
    "#norm of approximation from rand low rank matrix approximation\n",
    "print(np.linalg.norm(np.matmul(np.matmul(resultR,np.matrix.transpose(resultR)),A)))"
   ]
  },
  {
   "cell_type": "code",
   "execution_count": 72,
   "metadata": {},
   "outputs": [
    {
     "name": "stdout",
     "output_type": "stream",
     "text": [
      "1.000041288512951\n"
     ]
    }
   ],
   "source": [
    "#norm of approximation from rsvd from myself\n",
    "v=len(resultSRS)\n",
    "V=np.zeros([v,v])\n",
    "for i in range(v):\n",
    "    V[i,i]=resultSRS[i]\n",
    "print(np.linalg.norm(np.matmul(np.matmul(resultSRU,V),resultSRVT)))"
   ]
  },
  {
   "cell_type": "code",
   "execution_count": 46,
   "metadata": {},
   "outputs": [
    {
     "name": "stdout",
     "output_type": "stream",
     "text": [
      "2050.9846793488846\n"
     ]
    }
   ],
   "source": [
    "#norm of approximation from rsvd\n",
    "v=len(resultS[1])\n",
    "V=np.zeros([v,v])\n",
    "for i in range(v):\n",
    "    V[i,i]=resultS[1][i]\n",
    "print(np.linalg.norm(np.matmul(np.matmul(resultS[0],V),resultS[2])))"
   ]
  },
  {
   "cell_type": "code",
   "execution_count": 47,
   "metadata": {},
   "outputs": [
    {
     "name": "stdout",
     "output_type": "stream",
     "text": [
      "1.1100890636444092\n"
     ]
    },
    {
     "name": "stderr",
     "output_type": "stream",
     "text": [
      "/Users/lihaoyang/anaconda3/lib/python3.6/site-packages/ipykernel_launcher.py:22: DeprecationWarning: `toimage` is deprecated!\n",
      "`toimage` is deprecated in SciPy 1.0.0, and will be removed in 1.2.0.\n",
      "Use Pillow's ``Image.fromarray`` directly instead.\n"
     ]
    }
   ],
   "source": [
    "#image\n",
    "im=cv2.imread(\"test.JPG\")\n",
    "R=im[0:512,0:512,0]\n",
    "G=im[0:512,0:512,1]\n",
    "B=im[0:512,0:512,2]\n",
    "\n",
    "#randomized low rank matrix approximation\n",
    "start=time.time()\n",
    "R_R=low_rank_matrix(R,50)\n",
    "rR_R=np.matmul(np.matmul(R_R,np.matrix.transpose(R_R)),R)\n",
    "G_R=low_rank_matrix(G,50)\n",
    "rG_R=np.matmul(np.matmul(G_R,np.matrix.transpose(G_R)),G)\n",
    "B_R=low_rank_matrix(B,50)\n",
    "rB_R=np.matmul(np.matmul(B_R,np.matrix.transpose(B_R)),B)\n",
    "end=time.time()\n",
    "print(end-start)\n",
    "\n",
    "rgb_R=np.zeros([512,512,3])\n",
    "rgb_R[:,:,0]=rR_R\n",
    "rgb_R[:,:,1]=rG_R\n",
    "rgb_R[:,:,2]=rB_R\n",
    "toimage(rgb_R).show()\n"
   ]
  },
  {
   "cell_type": "code",
   "execution_count": 73,
   "metadata": {},
   "outputs": [
    {
     "name": "stdout",
     "output_type": "stream",
     "text": [
      "1.1157619953155518\n"
     ]
    },
    {
     "name": "stderr",
     "output_type": "stream",
     "text": [
      "/Users/lihaoyang/anaconda3/lib/python3.6/site-packages/ipykernel_launcher.py:31: DeprecationWarning: `toimage` is deprecated!\n",
      "`toimage` is deprecated in SciPy 1.0.0, and will be removed in 1.2.0.\n",
      "Use Pillow's ``Image.fromarray`` directly instead.\n"
     ]
    }
   ],
   "source": [
    "#randomized SVD from myself\n",
    "start=time.time()\n",
    "R_S=rsvd(R,50)\n",
    "G_S=rsvd(G,50)\n",
    "B_S=rsvd(B,50)\n",
    "end=time.time()\n",
    "print(end-start)\n",
    "\n",
    "v=len(R_S[1])\n",
    "V=np.zeros([v,v])\n",
    "for i in range(v):\n",
    "    V[i,i]=R_S[1][i]\n",
    "resultRed=np.matmul(np.matmul(R_S[0],V),R_S[2])\n",
    "\n",
    "v=len(G_S[1])\n",
    "V=np.zeros([v,v])\n",
    "for i in range(v):\n",
    "    V[i,i]=G_S[1][i]\n",
    "resultGre=np.matmul(np.matmul(G_S[0],V),G_S[2])\n",
    "\n",
    "v=len(B_S[1])\n",
    "V=np.zeros([v,v])\n",
    "for i in range(v):\n",
    "    V[i,i]=B_S[1][i]\n",
    "resultBlu=np.matmul(np.matmul(B_S[0],V),B_S[2])\n",
    "\n",
    "rgb_S=np.zeros([512,512,3])\n",
    "rgb_S[:,:,0]=resultRed\n",
    "rgb_S[:,:,1]=resultGre\n",
    "rgb_S[:,:,2]=resultBlu\n",
    "toimage(rgb_S).show()"
   ]
  },
  {
   "cell_type": "code",
   "execution_count": 50,
   "metadata": {},
   "outputs": [
    {
     "name": "stdout",
     "output_type": "stream",
     "text": [
      "0.13844895362854004\n"
     ]
    },
    {
     "name": "stderr",
     "output_type": "stream",
     "text": [
      "/Users/lihaoyang/anaconda3/lib/python3.6/site-packages/ipykernel_launcher.py:31: DeprecationWarning: `toimage` is deprecated!\n",
      "`toimage` is deprecated in SciPy 1.0.0, and will be removed in 1.2.0.\n",
      "Use Pillow's ``Image.fromarray`` directly instead.\n"
     ]
    }
   ],
   "source": [
    "#randomized SVD\n",
    "start=time.time()\n",
    "R_S=extmath.randomized_svd(R,10)\n",
    "G_S=extmath.randomized_svd(G,10)\n",
    "B_S=extmath.randomized_svd(B,10)\n",
    "end=time.time()\n",
    "print(end-start)\n",
    "\n",
    "v=len(R_S[1])\n",
    "V=np.zeros([v,v])\n",
    "for i in range(v):\n",
    "    V[i,i]=R_S[1][i]\n",
    "resultRed=np.matmul(np.matmul(R_S[0],V),R_S[2])\n",
    "\n",
    "v=len(G_S[1])\n",
    "V=np.zeros([v,v])\n",
    "for i in range(v):\n",
    "    V[i,i]=G_S[1][i]\n",
    "resultGre=np.matmul(np.matmul(G_S[0],V),G_S[2])\n",
    "\n",
    "v=len(B_S[1])\n",
    "V=np.zeros([v,v])\n",
    "for i in range(v):\n",
    "    V[i,i]=B_S[1][i]\n",
    "resultBlu=np.matmul(np.matmul(B_S[0],V),B_S[2])\n",
    "\n",
    "rgb_S=np.zeros([512,512,3])\n",
    "rgb_S[:,:,0]=resultRed\n",
    "rgb_S[:,:,1]=resultGre\n",
    "rgb_S[:,:,2]=resultBlu\n",
    "toimage(rgb_S).show()"
   ]
  },
  {
   "cell_type": "markdown",
   "metadata": {},
   "source": [
    "# Randomized Least Square"
   ]
  },
  {
   "cell_type": "code",
   "execution_count": null,
   "metadata": {},
   "outputs": [],
   "source": [
    "def rls(A,b,epslon):\n",
    "    n=A.shape[0]\n",
    "    d=A.shape[1]\n",
    "    #get r\n",
    "    r1=48*48*d*math.log(40*n*d)*math.log(10000*d*math.log(40*n*d))\n",
    "    r2=40*d*math.log(40*n*d)/epslon\n",
    "    r=max(r1,r2)\n",
    "    #get H\n",
    "    H=hadamard(n)/math.sqrt(n)\n",
    "    #choose r columns\n",
    "    N=range(n)\n",
    "    chosen=np.random.choice(N,size=r)\n",
    "    #get D\n",
    "    D=np.zeros([n,n])\n",
    "    for i in range(n):\n",
    "        D[i,i]=np.random.choice([1,-1])\n",
    "    HDA=np.matmul(H,np.matmul(D,A))\n",
    "    HDb=np.matmul(H,np.matmul(D,b))\n",
    "    "
   ]
  },
  {
   "cell_type": "code",
   "execution_count": 127,
   "metadata": {},
   "outputs": [
    {
     "name": "stdout",
     "output_type": "stream",
     "text": [
      "17849242.672132708\n",
      "2008423.3977296234\n"
     ]
    }
   ],
   "source": [
    "n=100000000\n",
    "d=20\n",
    "epslon=0.01\n",
    "print(48*48*d*math.log(40*n*d)*math.log(10000*d*math.log(40*n*d)))\n",
    "print(40*d*math.log(40*n*d)/epslon)"
   ]
  },
  {
   "cell_type": "code",
   "execution_count": 88,
   "metadata": {},
   "outputs": [
    {
     "data": {
      "text/plain": [
       "57657.274018482894"
      ]
     },
     "execution_count": 88,
     "metadata": {},
     "output_type": "execute_result"
    }
   ],
   "source": [
    "d*math.log(d)*math.log(n)+d*math.log(n)/epslon"
   ]
  },
  {
   "cell_type": "markdown",
   "metadata": {},
   "source": [
    "# Low Rank Approximation for PSD"
   ]
  },
  {
   "cell_type": "code",
   "execution_count": 8,
   "metadata": {},
   "outputs": [],
   "source": [
    "from numpy.linalg import matrix_rank\n",
    "from numpy.linalg import inv\n",
    "from scipy.linalg import eigh\n",
    "from numpy import fft\n",
    "from numpy.linalg import pinv\n"
   ]
  },
  {
   "cell_type": "code",
   "execution_count": 9,
   "metadata": {},
   "outputs": [],
   "source": [
    "#low rank approximation for SPSD with sketches\n",
    "def get_u(A):\n",
    "    k = matrix_rank(A)\n",
    "    projection = np.matmul(np.matmul(A,inv(np.matmul(A.transpose(),A))),A.transpose())\n",
    "    max = projection[0,0]\n",
    "    for i in range(projection.shape[0]):\n",
    "        if projection[i,i]>max:\n",
    "            max = projection[i,i]\n",
    "    n = A.shape[0]\n",
    "    u = n/k*max\n",
    "    return u\n",
    "    \n",
    "def get_l_ny(u,k,epslon,delta,inc):\n",
    "    min_l = 2*u*(1/(epslon*epslon))*k*math.log(k/delta)\n",
    "    return math.ceil(min_l + inc)\n",
    "\n",
    "def get_l_gs(k,epslon):\n",
    "    return math.ceil((1+epslon*epslon)*k)\n",
    "    \n",
    "def nystrom(n,l):\n",
    "    I = np.identity(n)\n",
    "    choice = np.random.choice(n, size=l, replace=False)\n",
    "    S = I[:,choice]\n",
    "    return S\n",
    "\n",
    "def srft(n,l):\n",
    "    D=np.zeros([n,n])\n",
    "    for i in range(n):\n",
    "        D[i,i]=np.random.choice([1,-1])\n",
    "    DF = fft.rfft2(D,norm=\"ortho\")\n",
    "    S = nystrom(n,l)\n",
    "    print(DF.shape)\n",
    "    DFR = np.matmul(DF,S)\n",
    "    return np.sqrt(n/l)*DFR\n",
    "\n",
    "def gaussian(n,l):\n",
    "    return np.random.normal(size=(n,l))\n",
    "\n",
    "def approximation(A,l,extension):\n",
    "    if extension == 0:\n",
    "        S = nystrom(A.shape[0],l)\n",
    "    elif extension == 1:\n",
    "        S = srft(A.shape[0],l)\n",
    "    elif extension == 2:\n",
    "        S = gaussian(A.shape[0],l)\n",
    "    C = np.matmul(A,S)\n",
    "    W = np.matmul(S.transpose(),np.matmul(A,S))\n",
    "    Winv = pinv(W)\n",
    "    approx = np.matmul(C,np.matmul(Winv,C.transpose()))\n",
    "    return approx"
   ]
  },
  {
   "cell_type": "code",
   "execution_count": 10,
   "metadata": {},
   "outputs": [],
   "source": [
    "old_A=np.random.rand(5000,5000)\n",
    "A = np.matmul(old_A,old_A.transpose())\n",
    "u=get_u(A)"
   ]
  },
  {
   "cell_type": "code",
   "execution_count": 71,
   "metadata": {},
   "outputs": [],
   "source": [
    "n=old_A.shape[0]\n",
    "I = np.identity(n)\n",
    "choice = np.random.choice(n, size=10, replace=False)\n",
    "I[:,choice] = I[:,choice]*1000\n",
    "A_100 = np.matmul(old_A,I)\n",
    "newA = np.matmul(A_100,A_100.transpose())\n",
    "new_U=get_u(newA)"
   ]
  },
  {
   "cell_type": "code",
   "execution_count": 18,
   "metadata": {},
   "outputs": [
    {
     "ename": "ValueError",
     "evalue": "matmul: Input operand 1 has a mismatch in its core dimension 0, with gufunc signature (n?,k),(k,m?)->(n?,m?) (size 1000 is different from 100000)",
     "output_type": "error",
     "traceback": [
      "\u001b[0;31m---------------------------------------------------------------------------\u001b[0m",
      "\u001b[0;31mValueError\u001b[0m                                Traceback (most recent call last)",
      "\u001b[0;32m<ipython-input-18-19b98ef91c42>\u001b[0m in \u001b[0;36m<module>\u001b[0;34m\u001b[0m\n\u001b[1;32m     19\u001b[0m     \u001b[0;32mfor\u001b[0m \u001b[0mj\u001b[0m \u001b[0;32min\u001b[0m \u001b[0mrange\u001b[0m\u001b[0;34m(\u001b[0m\u001b[0;36m5\u001b[0m\u001b[0;34m)\u001b[0m\u001b[0;34m:\u001b[0m\u001b[0;34m\u001b[0m\u001b[0;34m\u001b[0m\u001b[0m\n\u001b[1;32m     20\u001b[0m         \u001b[0mstartN\u001b[0m \u001b[0;34m=\u001b[0m \u001b[0mtime\u001b[0m\u001b[0;34m.\u001b[0m\u001b[0mtime\u001b[0m\u001b[0;34m(\u001b[0m\u001b[0;34m)\u001b[0m\u001b[0;34m\u001b[0m\u001b[0;34m\u001b[0m\u001b[0m\n\u001b[0;32m---> 21\u001b[0;31m         \u001b[0mAapprox0\u001b[0m \u001b[0;34m=\u001b[0m \u001b[0mapproximation\u001b[0m\u001b[0;34m(\u001b[0m\u001b[0minputM\u001b[0m\u001b[0;34m,\u001b[0m\u001b[0ml\u001b[0m\u001b[0;34m,\u001b[0m\u001b[0;36m0\u001b[0m\u001b[0;34m)\u001b[0m\u001b[0;34m\u001b[0m\u001b[0;34m\u001b[0m\u001b[0m\n\u001b[0m\u001b[1;32m     22\u001b[0m         \u001b[0mendN\u001b[0m \u001b[0;34m=\u001b[0m \u001b[0mtime\u001b[0m\u001b[0;34m.\u001b[0m\u001b[0mtime\u001b[0m\u001b[0;34m(\u001b[0m\u001b[0;34m)\u001b[0m\u001b[0;34m\u001b[0m\u001b[0;34m\u001b[0m\u001b[0m\n\u001b[1;32m     23\u001b[0m         \u001b[0mtmN\u001b[0m\u001b[0;34m[\u001b[0m\u001b[0mj\u001b[0m\u001b[0;34m]\u001b[0m \u001b[0;34m=\u001b[0m \u001b[0mendN\u001b[0m\u001b[0;34m-\u001b[0m\u001b[0mstartN\u001b[0m\u001b[0;34m\u001b[0m\u001b[0;34m\u001b[0m\u001b[0m\n",
      "\u001b[0;32m<ipython-input-3-d28560036938>\u001b[0m in \u001b[0;36mapproximation\u001b[0;34m(A, l, extension)\u001b[0m\n\u001b[1;32m     44\u001b[0m     \u001b[0;32melif\u001b[0m \u001b[0mextension\u001b[0m \u001b[0;34m==\u001b[0m \u001b[0;36m2\u001b[0m\u001b[0;34m:\u001b[0m\u001b[0;34m\u001b[0m\u001b[0;34m\u001b[0m\u001b[0m\n\u001b[1;32m     45\u001b[0m         \u001b[0mS\u001b[0m \u001b[0;34m=\u001b[0m \u001b[0mgaussian\u001b[0m\u001b[0;34m(\u001b[0m\u001b[0mA\u001b[0m\u001b[0;34m.\u001b[0m\u001b[0mshape\u001b[0m\u001b[0;34m[\u001b[0m\u001b[0;36m0\u001b[0m\u001b[0;34m]\u001b[0m\u001b[0;34m,\u001b[0m\u001b[0ml\u001b[0m\u001b[0;34m)\u001b[0m\u001b[0;34m\u001b[0m\u001b[0;34m\u001b[0m\u001b[0m\n\u001b[0;32m---> 46\u001b[0;31m     \u001b[0mC\u001b[0m \u001b[0;34m=\u001b[0m \u001b[0mnp\u001b[0m\u001b[0;34m.\u001b[0m\u001b[0mmatmul\u001b[0m\u001b[0;34m(\u001b[0m\u001b[0mA\u001b[0m\u001b[0;34m,\u001b[0m\u001b[0mS\u001b[0m\u001b[0;34m)\u001b[0m\u001b[0;34m\u001b[0m\u001b[0;34m\u001b[0m\u001b[0m\n\u001b[0m\u001b[1;32m     47\u001b[0m     \u001b[0mW\u001b[0m \u001b[0;34m=\u001b[0m \u001b[0mnp\u001b[0m\u001b[0;34m.\u001b[0m\u001b[0mmatmul\u001b[0m\u001b[0;34m(\u001b[0m\u001b[0mS\u001b[0m\u001b[0;34m.\u001b[0m\u001b[0mtranspose\u001b[0m\u001b[0;34m(\u001b[0m\u001b[0;34m)\u001b[0m\u001b[0;34m,\u001b[0m\u001b[0mnp\u001b[0m\u001b[0;34m.\u001b[0m\u001b[0mmatmul\u001b[0m\u001b[0;34m(\u001b[0m\u001b[0mA\u001b[0m\u001b[0;34m,\u001b[0m\u001b[0mS\u001b[0m\u001b[0;34m)\u001b[0m\u001b[0;34m)\u001b[0m\u001b[0;34m\u001b[0m\u001b[0;34m\u001b[0m\u001b[0m\n\u001b[1;32m     48\u001b[0m     \u001b[0mWinv\u001b[0m \u001b[0;34m=\u001b[0m \u001b[0mpinv\u001b[0m\u001b[0;34m(\u001b[0m\u001b[0mW\u001b[0m\u001b[0;34m)\u001b[0m\u001b[0;34m\u001b[0m\u001b[0;34m\u001b[0m\u001b[0m\n",
      "\u001b[0;31mValueError\u001b[0m: matmul: Input operand 1 has a mismatch in its core dimension 0, with gufunc signature (n?,k),(k,m?)->(n?,m?) (size 1000 is different from 100000)"
     ]
    }
   ],
   "source": [
    "#This part of code has some bug I have not noticed before and I am working on solving it.\n",
    "#nystrom\n",
    "inputM = A\n",
    "inputU = u\n",
    "N = 10\n",
    "epslon = 0.9\n",
    "normA = np.linalg.norm(inputM)\n",
    "timeN = np.zeros(N)\n",
    "accuracyN = np.zeros(N)\n",
    "timeG = np.zeros(N)\n",
    "accuracyG = np.zeros(N)\n",
    "K = np.zeros(N)\n",
    "for i in range(N):\n",
    "    k = i*10+10\n",
    "    \n",
    "    l=get_l_ny(inputU,k,epslon,0.9,0)\n",
    "    l=l*2\n",
    "    accN = np.zeros(5)\n",
    "    tmN = np.zeros(5)\n",
    "    for j in range(5):\n",
    "        startN = time.time()\n",
    "        Aapprox0 = approximation(inputM,l,0)\n",
    "        endN = time.time()\n",
    "        tmN[j] = endN-startN\n",
    "        accN[j] = normA-np.linalg.norm(Aapprox0)\n",
    "    #print(l)\n",
    "    \n",
    "    \n",
    "    l=get_l_gs(k,epslon)\n",
    "    l = l*2\n",
    "    accG = np.zeros(5)\n",
    "    tmG = np.zeros(5)\n",
    "    for m in range(5):\n",
    "        startG = time.time()\n",
    "        Aapprox1 = approximation(inputM,l,2)\n",
    "        endG = time.time()\n",
    "        tmG[j] = endG-startG\n",
    "        accG[j] = normA-np.linalg.norm(Aapprox1)\n",
    "    print(l)\n",
    "    print(\"***\")\n",
    "    \n",
    "    timeN[i] = np.average(tmN)\n",
    "    timeG[i] = np.average(tmG)\n",
    "    K[i] = k\n",
    "    accuracyN[i] = np.average(accN)\n",
    "    accuracyG[i] = np.average(accG)"
   ]
  },
  {
   "cell_type": "code",
   "execution_count": 6,
   "metadata": {},
   "outputs": [
    {
     "data": {
      "image/png": "[encoded data removed]",
      "text/plain": [
       "<Figure size 432x288 with 1 Axes>"
      ]
     },
     "metadata": {
      "needs_background": "light"
     },
     "output_type": "display_data"
    },
    {
     "name": "stdout",
     "output_type": "stream",
     "text": [
      "6251772.593499592\n"
     ]
    }
   ],
   "source": [
    "x = accuracyN\n",
    "y = accuracyG\n",
    "fig = plt.figure()\n",
    "ax1 = fig.add_subplot(111)\n",
    "\n",
    "ax1.scatter(K,x, c='b', marker=\"s\", label='nystrom')\n",
    "ax1.scatter(K,y, c='r', marker=\"o\", label='gaussian')\n",
    "plt.legend(loc='upper left');\n",
    "plt.show()\n",
    "print(normA)"
   ]
  },
  {
   "cell_type": "code",
   "execution_count": 9,
   "metadata": {},
   "outputs": [
    {
     "data": {
      "image/png": "[encoded data removed]",
      "text/plain": [
       "<Figure size 432x288 with 1 Axes>"
      ]
     },
     "metadata": {
      "needs_background": "light"
     },
     "output_type": "display_data"
    }
   ],
   "source": [
    "a = timeN\n",
    "b = timeG\n",
    "fig = plt.figure()\n",
    "ax1 = fig.add_subplot(111)\n",
    "\n",
    "ax1.scatter(K,a, c='b', marker=\"s\", label='nystrom')\n",
    "ax1.scatter(K,b, c='r', marker=\"o\", label='gaussian')\n",
    "plt.legend(loc='upper left');\n",
    "plt.show()"
   ]
  },
  {
   "cell_type": "code",
   "execution_count": 79,
   "metadata": {},
   "outputs": [
    {
     "name": "stdout",
     "output_type": "stream",
     "text": [
      "[1.20448164e-06 4.31021908e-07 2.26444443e-07 1.34756378e-07\n",
      " 8.83928334e-08 5.64180630e-08 3.68166252e-08 2.33858440e-08\n",
      " 1.58408896e-08 1.00081633e-08]\n",
      "[7.28840279e-05 8.98336418e-06 6.62651299e-06 3.43850757e-06\n",
      " 2.09157921e-06 1.96807809e-06 2.02194980e-06 1.41169529e-06\n",
      " 1.28724437e-06 1.17978229e-06]\n"
     ]
    }
   ],
   "source": [
    "print(x)\n",
    "print(y)"
   ]
  },
  {
   "cell_type": "code",
   "execution_count": 80,
   "metadata": {},
   "outputs": [
    {
     "name": "stdout",
     "output_type": "stream",
     "text": [
      "19\n",
      "37\n",
      "55\n",
      "73\n",
      "91\n",
      "109\n",
      "127\n",
      "145\n",
      "163\n",
      "181\n"
     ]
    }
   ],
   "source": [
    "for i in range(N):\n",
    "    k = i*10+10\n",
    "    l=get_l_gs(k,epslon)\n",
    "    print(l)"
   ]
  },
  {
   "cell_type": "code",
   "execution_count": 98,
   "metadata": {},
   "outputs": [
    {
     "data": {
      "image/png": "[encoded data removed]",
      "text/plain": [
       "<Figure size 432x288 with 1 Axes>"
      ]
     },
     "metadata": {
      "needs_background": "light"
     },
     "output_type": "display_data"
    }
   ],
   "source": [
    "M = 50\n",
    "lN = np.zeros(M)\n",
    "lG = np.zeros(M)\n",
    "KK = np.zeros(M)\n",
    "for i in range(M):\n",
    "    n = i*1000+1000\n",
    "    k = n/100\n",
    "    lN[i]=get_l_ny(inputU,k,epslon,0.9,0)\n",
    "    lG[i]=get_l_gs(k,epslon)\n",
    "    KK[i]=n\n",
    "a = lN\n",
    "b = lG\n",
    "fig = plt.figure()\n",
    "ax1 = fig.add_subplot(111)\n",
    "\n",
    "ax1.scatter(KK,a, c='b', marker=\"s\", label='nystrom')\n",
    "ax1.scatter(KK,b, c='r', marker=\"o\", label='gaussian')\n",
    "plt.legend(loc='upper left');\n",
    "plt.show()"
   ]
  },
  {
   "cell_type": "code",
   "execution_count": 7,
   "metadata": {},
   "outputs": [
    {
     "name": "stdout",
     "output_type": "stream",
     "text": [
      "[1006.73343466  796.31672124  865.85164265  345.2422611   295.90506394\n",
      "  311.35206282  244.88951203  205.31612218  186.27932811  138.05777498]\n"
     ]
    }
   ],
   "source": [
    "print(y)"
   ]
  },
  {
   "cell_type": "code",
   "execution_count": 10,
   "metadata": {},
   "outputs": [
    {
     "name": "stdout",
     "output_type": "stream",
     "text": [
      "[0.00524897 0.00638347 0.00735998 0.00897117 0.01311699 0.00722676\n",
      " 0.00934746 0.01131947 0.0124033  0.0129519 ]\n"
     ]
    }
   ],
   "source": [
    "print(b)"
   ]
  },
  {
   "cell_type": "code",
   "execution_count": 11,
   "metadata": {},
   "outputs": [
    {
     "name": "stdout",
     "output_type": "stream",
     "text": [
      "[33954.89298873 12852.44050778  7272.75701482  4847.15796093\n",
      "  3495.40129615  2662.47501322  2080.0322305   1670.23442038\n",
      "  1360.59779655  1121.73392249]\n"
     ]
    }
   ],
   "source": [
    "print(x)"
   ]
  },
  {
   "cell_type": "code",
   "execution_count": 12,
   "metadata": {},
   "outputs": [
    {
     "name": "stdout",
     "output_type": "stream",
     "text": [
      "[0.69489672 1.08272074 1.6348556  2.16348006 2.93796542 3.45258002\n",
      " 3.67053808 4.98939208 5.38446053 5.72975942]\n"
     ]
    }
   ],
   "source": [
    "print(a)"
   ]
  },
  {
   "cell_type": "code",
   "execution_count": 5,
   "metadata": {},
   "outputs": [
    {
     "data": {
      "text/plain": [
       "array([[2., 2., 2., 2., 2.],\n",
       "       [2., 2., 2., 2., 2.]])"
      ]
     },
     "execution_count": 5,
     "metadata": {},
     "output_type": "execute_result"
    }
   ],
   "source": [
    "A = np.zeros(10)+1\n",
    "A = np.reshape(A,[2,5])*2\n",
    "\n",
    "A"
   ]
  },
  {
   "cell_type": "code",
   "execution_count": 6,
   "metadata": {},
   "outputs": [
    {
     "data": {
      "text/plain": [
       "6.324555320336759"
      ]
     },
     "execution_count": 6,
     "metadata": {},
     "output_type": "execute_result"
    }
   ],
   "source": [
    "np.linalg.norm(A)"
   ]
  },
  {
   "cell_type": "code",
   "execution_count": 11,
   "metadata": {},
   "outputs": [
    {
     "data": {
      "text/plain": [
       "1.0027364287039662"
      ]
     },
     "execution_count": 11,
     "metadata": {},
     "output_type": "execute_result"
    }
   ],
   "source": [
    "u"
   ]
  },
  {
   "cell_type": "code",
   "execution_count": null,
   "metadata": {},
   "outputs": [],
   "source": []
  }
 ],
 "metadata": {
  "kernelspec": {
   "display_name": "Python 3",
   "language": "python",
   "name": "python3"
  },
  "language_info": {
   "codemirror_mode": {
    "name": "ipython",
    "version": 3
   },
   "file_extension": ".py",
   "mimetype": "text/x-python",
   "name": "python",
   "nbconvert_exporter": "python",
   "pygments_lexer": "ipython3",
   "version": "3.6.8"
  }
 },
 "nbformat": 4,
 "nbformat_minor": 2
}
